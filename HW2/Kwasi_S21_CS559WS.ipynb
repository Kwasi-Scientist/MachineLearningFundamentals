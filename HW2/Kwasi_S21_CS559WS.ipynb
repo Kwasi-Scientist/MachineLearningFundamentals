{
 "cells": [
  {
   "cell_type": "markdown",
   "metadata": {},
   "source": [
    "# CS559: Homework #2\n",
    "Assignment #2: Due on 3/12/2021 by 11:59 PM\n",
    "\n",
    "- Change the file name as YourName_S21_CS559_HW2\n",
    "- Submit the assignment in `ipynb` and `html` formats. \n",
    "    - You can export the notebook in HTML. \n",
    "    - Do not compress your files. Please submit files individually. \n",
    "- All work must be your own and must not be shared with other classmates. \n",
    "    - Collaboration with classmates or getting help by any people is not acceptable. \n",
    "    - For impletementation problems, do not copy algorithms from internet. "
   ]
  },
  {
   "cell_type": "code",
   "execution_count": 1,
   "metadata": {},
   "outputs": [],
   "source": [
    "import pandas as pd\n",
    "import numpy as np\n",
    "import matplotlib.pyplot as plt\n",
    "import random"
   ]
  },
  {
   "cell_type": "markdown",
   "metadata": {},
   "source": [
    "## Problem 1 - Clustering Using KMeans [35 pts]\n",
    "\n",
    "The tasks in this problem are:\n",
    "- impletemenation of KMeans\n",
    "- confirmation of pre-determined K value\n",
    "\n",
    "Here, we have a given data set `HW2_Q1_0.csv` containing coordinates of x and y. \n",
    "\n",
    "1-a. Load the data and add feature name as X and Y for the first and second columns, respectively. (2 pts)"
   ]
  },
  {
   "cell_type": "code",
   "execution_count": 2,
   "metadata": {},
   "outputs": [],
   "source": [
    "df = pd.read_csv('HW2_Q2_0.csv')"
   ]
  },
  {
   "cell_type": "code",
   "execution_count": 3,
   "metadata": {},
   "outputs": [],
   "source": [
    "df.columns = ['X', 'Y']"
   ]
  },
  {
   "cell_type": "code",
   "execution_count": 4,
   "metadata": {},
   "outputs": [
    {
     "data": {
      "text/html": [
       "<div>\n",
       "<style scoped>\n",
       "    .dataframe tbody tr th:only-of-type {\n",
       "        vertical-align: middle;\n",
       "    }\n",
       "\n",
       "    .dataframe tbody tr th {\n",
       "        vertical-align: top;\n",
       "    }\n",
       "\n",
       "    .dataframe thead th {\n",
       "        text-align: right;\n",
       "    }\n",
       "</style>\n",
       "<table border=\"1\" class=\"dataframe\">\n",
       "  <thead>\n",
       "    <tr style=\"text-align: right;\">\n",
       "      <th></th>\n",
       "      <th>X</th>\n",
       "      <th>Y</th>\n",
       "    </tr>\n",
       "  </thead>\n",
       "  <tbody>\n",
       "    <tr>\n",
       "      <th>0</th>\n",
       "      <td>-0.169793</td>\n",
       "      <td>1.073745</td>\n",
       "    </tr>\n",
       "    <tr>\n",
       "      <th>1</th>\n",
       "      <td>1.128729</td>\n",
       "      <td>-2.395042</td>\n",
       "    </tr>\n",
       "    <tr>\n",
       "      <th>2</th>\n",
       "      <td>0.122506</td>\n",
       "      <td>-0.973069</td>\n",
       "    </tr>\n",
       "    <tr>\n",
       "      <th>3</th>\n",
       "      <td>-0.409200</td>\n",
       "      <td>0.129649</td>\n",
       "    </tr>\n",
       "    <tr>\n",
       "      <th>4</th>\n",
       "      <td>0.476229</td>\n",
       "      <td>-0.048147</td>\n",
       "    </tr>\n",
       "  </tbody>\n",
       "</table>\n",
       "</div>"
      ],
      "text/plain": [
       "          X         Y\n",
       "0 -0.169793  1.073745\n",
       "1  1.128729 -2.395042\n",
       "2  0.122506 -0.973069\n",
       "3 -0.409200  0.129649\n",
       "4  0.476229 -0.048147"
      ]
     },
     "execution_count": 4,
     "metadata": {},
     "output_type": "execute_result"
    }
   ],
   "source": [
    "df.head()"
   ]
  },
  {
   "cell_type": "code",
   "execution_count": 5,
   "metadata": {},
   "outputs": [
    {
     "data": {
      "text/plain": [
       "(824, 2)"
      ]
     },
     "execution_count": 5,
     "metadata": {},
     "output_type": "execute_result"
    }
   ],
   "source": [
    "df.shape"
   ]
  },
  {
   "cell_type": "markdown",
   "metadata": {},
   "source": [
    "1-b. Using `KMeans` from `sklearn.cluster`, determine the appropriate $K$ value for `HW2_Q1_0.csv` and report it. Explain why your pre-determined $K$ value is appropriate. The function `plot_inertia` is provided to you. (4 pts)"
   ]
  },
  {
   "cell_type": "code",
   "execution_count": 6,
   "metadata": {},
   "outputs": [],
   "source": [
    "from sklearn.cluster import KMeans\n",
    "kmeans = KMeans()\n",
    "\n",
    "def plot_inertia(km, X, n_cluster_range):\n",
    "    inertias = []\n",
    "    for i in n_cluster_range:\n",
    "        km.set_params(n_clusters=i)\n",
    "        km.fit(X)\n",
    "        inertias.append(km.inertia_)\n",
    "    plt.plot(n_cluster_range, inertias, marker='o')\n",
    "    plt.title('Elbow method')\n",
    "    plt.xlabel('Number of clusters')\n",
    "    plt.ylabel('Inertia')\n",
    "    plt.show()\n",
    "    \n",
    "    tabular_result = pd.DataFrame(inertias, \n",
    "                                  index = [\"n = {}\".format(i) for i in range(1, len(inertias)+1)], \n",
    "                                  columns=['Inertia'])\n",
    "    \n",
    "    return tabular_result"
   ]
  },
  {
   "cell_type": "code",
   "execution_count": 7,
   "metadata": {},
   "outputs": [
    {
     "data": {
      "image/png": "[encoded data removed]",
      "text/plain": [
       "<Figure size 432x288 with 1 Axes>"
      ]
     },
     "metadata": {
      "needs_background": "light"
     },
     "output_type": "display_data"
    },
    {
     "data": {
      "text/html": [
       "<div>\n",
       "<style scoped>\n",
       "    .dataframe tbody tr th:only-of-type {\n",
       "        vertical-align: middle;\n",
       "    }\n",
       "\n",
       "    .dataframe tbody tr th {\n",
       "        vertical-align: top;\n",
       "    }\n",
       "\n",
       "    .dataframe thead th {\n",
       "        text-align: right;\n",
       "    }\n",
       "</style>\n",
       "<table border=\"1\" class=\"dataframe\">\n",
       "  <thead>\n",
       "    <tr style=\"text-align: right;\">\n",
       "      <th></th>\n",
       "      <th>Inertia</th>\n",
       "    </tr>\n",
       "  </thead>\n",
       "  <tbody>\n",
       "    <tr>\n",
       "      <th>n = 1</th>\n",
       "      <td>1461.526463</td>\n",
       "    </tr>\n",
       "    <tr>\n",
       "      <th>n = 2</th>\n",
       "      <td>555.212132</td>\n",
       "    </tr>\n",
       "    <tr>\n",
       "      <th>n = 3</th>\n",
       "      <td>416.020497</td>\n",
       "    </tr>\n",
       "    <tr>\n",
       "      <th>n = 4</th>\n",
       "      <td>322.692298</td>\n",
       "    </tr>\n",
       "    <tr>\n",
       "      <th>n = 5</th>\n",
       "      <td>230.300676</td>\n",
       "    </tr>\n",
       "    <tr>\n",
       "      <th>n = 6</th>\n",
       "      <td>193.543724</td>\n",
       "    </tr>\n",
       "    <tr>\n",
       "      <th>n = 7</th>\n",
       "      <td>159.255425</td>\n",
       "    </tr>\n",
       "    <tr>\n",
       "      <th>n = 8</th>\n",
       "      <td>136.683436</td>\n",
       "    </tr>\n",
       "    <tr>\n",
       "      <th>n = 9</th>\n",
       "      <td>119.477217</td>\n",
       "    </tr>\n",
       "    <tr>\n",
       "      <th>n = 10</th>\n",
       "      <td>103.808249</td>\n",
       "    </tr>\n",
       "  </tbody>\n",
       "</table>\n",
       "</div>"
      ],
      "text/plain": [
       "            Inertia\n",
       "n = 1   1461.526463\n",
       "n = 2    555.212132\n",
       "n = 3    416.020497\n",
       "n = 4    322.692298\n",
       "n = 5    230.300676\n",
       "n = 6    193.543724\n",
       "n = 7    159.255425\n",
       "n = 8    136.683436\n",
       "n = 9    119.477217\n",
       "n = 10   103.808249"
      ]
     },
     "execution_count": 7,
     "metadata": {},
     "output_type": "execute_result"
    }
   ],
   "source": [
    "plot_inertia(kmeans,df, range(1,11))"
   ]
  },
  {
   "cell_type": "code",
   "execution_count": 8,
   "metadata": {},
   "outputs": [],
   "source": [
    "#The K value of k = 3 is appropriate here as it is the point after the steepest slope."
   ]
  },
  {
   "cell_type": "markdown",
   "metadata": {},
   "source": [
    "1-c. Make a scatter plot of y vs. x. Do you think your pre-determined $K$ value is acceptable. Explain why. If you do not think your pre-determined $K$ value is not correct, explain what a new pre-determined $K$ value must be. (4 pts) "
   ]
  },
  {
   "cell_type": "code",
   "execution_count": 9,
   "metadata": {},
   "outputs": [
    {
     "data": {
      "text/plain": [
       "KMeans(algorithm='auto', copy_x=True, init='k-means++', max_iter=300,\n",
       "       n_clusters=3, n_init=10, n_jobs=None, precompute_distances='auto',\n",
       "       random_state=None, tol=0.0001, verbose=0)"
      ]
     },
     "execution_count": 9,
     "metadata": {},
     "output_type": "execute_result"
    }
   ],
   "source": [
    "kmeans.set_params(n_clusters = 3)"
   ]
  },
  {
   "cell_type": "code",
   "execution_count": 10,
   "metadata": {},
   "outputs": [],
   "source": [
    "labels = kmeans.fit_predict(df)"
   ]
  },
  {
   "cell_type": "code",
   "execution_count": 11,
   "metadata": {},
   "outputs": [
    {
     "data": {
      "text/plain": [
       "(824,)"
      ]
     },
     "execution_count": 11,
     "metadata": {},
     "output_type": "execute_result"
    }
   ],
   "source": [
    "labels.shape"
   ]
  },
  {
   "cell_type": "code",
   "execution_count": 12,
   "metadata": {},
   "outputs": [],
   "source": [
    "centers = kmeans.cluster_centers_"
   ]
  },
  {
   "cell_type": "code",
   "execution_count": 13,
   "metadata": {},
   "outputs": [],
   "source": [
    "filtered0 = df[labels==0]\n",
    "filtered1 = df[labels==1]\n",
    "filtered2 = df[labels==2]"
   ]
  },
  {
   "cell_type": "code",
   "execution_count": null,
   "metadata": {},
   "outputs": [],
   "source": []
  },
  {
   "cell_type": "code",
   "execution_count": 14,
   "metadata": {},
   "outputs": [
    {
     "data": {
      "image/png": "[encoded data removed]",
      "text/plain": [
       "<Figure size 432x288 with 1 Axes>"
      ]
     },
     "metadata": {
      "needs_background": "light"
     },
     "output_type": "display_data"
    }
   ],
   "source": [
    "plt.scatter(filtered0.iloc[:,0], filtered0.iloc[:,1])\n",
    "plt.scatter(filtered1.iloc[:,0],filtered1.iloc[:,1])\n",
    "plt.scatter(filtered2.iloc[:,0],filtered2.iloc[:,1])\n",
    "plt.scatter(centers[:,0],centers[:,1], color = 'black')\n",
    "plt.xlabel('X')\n",
    "plt.ylabel('Y')\n",
    "plt.title('Kmeans plot K=3')\n",
    "plt.show()"
   ]
  },
  {
   "cell_type": "code",
   "execution_count": 15,
   "metadata": {},
   "outputs": [],
   "source": [
    "#The K value of 3 seems to be appropriate because it separates the chart into distinct areas with minimal overlap \n"
   ]
  },
  {
   "cell_type": "code",
   "execution_count": null,
   "metadata": {},
   "outputs": [],
   "source": []
  },
  {
   "cell_type": "markdown",
   "metadata": {},
   "source": [
    "1-d. Impletement `MY_KMean` that does the KMeans clustering. When you do the implementation, you may use linear algebra built-in functions from `Numpy`. Do not use `KMeans` directly. (10 pts)"
   ]
  },
  {
   "cell_type": "code",
   "execution_count": 16,
   "metadata": {},
   "outputs": [],
   "source": [
    "#We will need several helper functions to make my_kmeans\n",
    "#Make distance function\n",
    "#Assign initial centroids at random\n",
    "#assign each observation to a cluster \n",
    "#calculate new cluster centeres\n",
    "#reassign clusters based on new centroids\n",
    "#repeat\n",
    "\n",
    "#1 make euclidean distance \n",
    "def euclidean_distance(x1,x2):\n",
    "    return np.linalg.norm(x1-x2)\n",
    "    \n"
   ]
  },
  {
   "cell_type": "code",
   "execution_count": 17,
   "metadata": {},
   "outputs": [],
   "source": [
    "#2 assign three random points as centroid\n",
    "points = random.sample(range(0,len(df)),3)"
   ]
  },
  {
   "cell_type": "code",
   "execution_count": 18,
   "metadata": {},
   "outputs": [],
   "source": [
    "#get xy coordinated of these points\n",
    "centroids = []\n",
    "for i in points:\n",
    "    centroids.append(df.iloc[i])"
   ]
  },
  {
   "cell_type": "code",
   "execution_count": 19,
   "metadata": {},
   "outputs": [
    {
     "data": {
      "text/plain": [
       "array([[ 0.26922445,  0.23535121],\n",
       "       [-0.44490254, -0.93138363],\n",
       "       [ 0.27159465, -0.25583208]])"
      ]
     },
     "execution_count": 19,
     "metadata": {},
     "output_type": "execute_result"
    }
   ],
   "source": [
    "#These are out initial centroids\n",
    "centroids = np.array(centroids)\n",
    "centroids"
   ]
  },
  {
   "cell_type": "code",
   "execution_count": 20,
   "metadata": {},
   "outputs": [],
   "source": [
    "#3 assign each observation to cluster by calculating distance to each of the three centroids\n",
    "#then assign to group with smallest distance \n",
    "#findClosestCentroid\n",
    "def makeClusters(centroid, df):\n",
    "    assigned_cluster = []\n",
    "    #iter through df\n",
    "    for i in range(len(df)):\n",
    "        dist = []\n",
    "        for j in centroid:\n",
    "            #find distance\n",
    "            dist.append(euclidean_distance(np.array(df.iloc[i]),j))\n",
    "        #find smallest distance of three distances\n",
    "        assigned_cluster.append(np.argmin(dist))\n",
    "        #print('dist: ', np.argmin(dist))\n",
    "    return assigned_cluster\n",
    "        \n"
   ]
  },
  {
   "cell_type": "code",
   "execution_count": 21,
   "metadata": {},
   "outputs": [],
   "source": [
    "assigned_clusters = makeClusters(centroids,df)"
   ]
  },
  {
   "cell_type": "code",
   "execution_count": 22,
   "metadata": {},
   "outputs": [
    {
     "data": {
      "text/plain": [
       "array([0, 1, 1, 0, 2, 2, 0, 1, 2, 1, 0, 0, 2, 0, 2, 1, 1, 1, 2, 0, 1, 2,\n",
       "       0, 1, 0, 2, 0, 2, 0, 2, 0, 0, 1, 0, 0, 2, 1, 2, 1, 0, 2, 1, 1, 2,\n",
       "       2, 2, 2, 0, 1, 1, 1, 0, 1, 2, 0, 1, 1, 1, 1, 1, 0, 0, 1, 0, 1, 2,\n",
       "       0, 1, 1, 1, 0, 2, 0, 1, 1, 2, 1, 1, 2, 1, 0, 2, 1, 2, 1, 0, 1, 0,\n",
       "       0, 1, 1, 2, 1, 0, 0, 2, 1, 0, 2, 0, 1, 1, 1, 0, 0, 2, 2, 1, 1, 2,\n",
       "       1, 0, 0, 2, 0, 1, 0, 2, 2, 1, 2, 0, 1, 1, 2, 1, 2, 1, 1, 1, 1, 1,\n",
       "       2, 1, 2, 2, 0, 1, 1, 1, 2, 1, 0, 0, 2, 2, 1, 2, 0, 2, 1, 2, 1, 0,\n",
       "       0, 1, 1, 0, 0, 1, 2, 2, 1, 0, 1, 0, 0, 1, 2, 2, 1, 0, 1, 0, 0, 1,\n",
       "       2, 2, 0, 1, 2, 1, 0, 2, 1, 2, 1, 0, 0, 1, 1, 0, 0, 0, 2, 1, 0, 1,\n",
       "       0, 2, 1, 2, 1, 0, 1, 0, 2, 0, 2, 0, 0, 0, 1, 2, 0, 2, 1, 1, 0, 0,\n",
       "       0, 0, 0, 2, 0, 1, 0, 2, 2, 1, 0, 1, 0, 1, 2, 0, 1, 0, 2, 0, 0, 1,\n",
       "       1, 2, 0, 1, 1, 1, 0, 1, 0, 1, 0, 2, 1, 1, 0, 2, 1, 0, 2, 1, 2, 0,\n",
       "       1, 0, 1, 1, 0, 2, 1, 0, 1, 0, 1, 2, 0, 2, 1, 1, 1, 1, 2, 1, 2, 2,\n",
       "       1, 1, 1, 0, 0, 1, 2, 2, 1, 2, 0, 0, 0, 0, 0, 1, 2, 2, 0, 2, 2, 0,\n",
       "       2, 2, 2, 2, 2, 1, 2, 0, 2, 0, 1, 1, 1, 1, 0, 0, 2, 2, 2, 1, 2, 1,\n",
       "       0, 0, 2, 1, 1, 1, 1, 1, 1, 0, 2, 2, 2, 1, 1, 1, 1, 2, 0, 0, 2, 1,\n",
       "       2, 2, 0, 0, 1, 0, 1, 2, 1, 2, 2, 1, 0, 2, 0, 0, 0, 1, 2, 2, 1, 0,\n",
       "       0, 2, 2, 2, 1, 2, 1, 2, 1, 0, 0, 0, 2, 1, 1, 1, 0, 0, 2, 0, 0, 0,\n",
       "       2, 1, 1, 1, 1, 1, 1, 1, 2, 2, 1, 0, 1, 2, 0, 1, 0, 2, 2, 2, 2, 1,\n",
       "       0, 0, 1, 1, 1, 1, 0, 0, 1, 0, 0, 2, 2, 1, 1, 2, 0, 0, 1, 2, 0, 1,\n",
       "       0, 2, 2, 0, 0, 2, 0, 1, 1, 2, 0, 0, 0, 2, 0, 1, 2, 2, 1, 1, 1, 2,\n",
       "       1, 1, 1, 1, 0, 0, 2, 1, 1, 0, 0, 0, 2, 2, 0, 1, 0, 1, 2, 2, 0, 1,\n",
       "       2, 0, 0, 0, 1, 0, 0, 1, 1, 1, 1, 2, 0, 0, 2, 1, 0, 1, 1, 1, 1, 1,\n",
       "       2, 2, 1, 2, 0, 0, 1, 1, 0, 0, 1, 0, 0, 1, 0, 2, 2, 0, 1, 1, 2, 0,\n",
       "       0, 1, 0, 1, 1, 1, 2, 2, 0, 0, 1, 0, 0, 1, 2, 0, 0, 1, 2, 1, 1, 1,\n",
       "       2, 2, 0, 0, 0, 2, 0, 1, 0, 1, 1, 1, 2, 1, 1, 0, 2, 1, 1, 1, 1, 2,\n",
       "       0, 1, 1, 2, 2, 2, 0, 1, 0, 1, 0, 2, 2, 1, 0, 0, 0, 0, 2, 0, 2, 2,\n",
       "       2, 0, 2, 1, 2, 1, 0, 0, 0, 0, 1, 0, 1, 0, 1, 2, 1, 0, 2, 0, 0, 1,\n",
       "       1, 0, 0, 0, 1, 0, 2, 1, 0, 1, 2, 1, 0, 0, 1, 2, 1, 1, 2, 2, 0, 2,\n",
       "       0, 2, 1, 0, 0, 0, 2, 0, 0, 0, 1, 0, 2, 0, 0, 1, 0, 1, 2, 1, 1, 0,\n",
       "       0, 2, 0, 1, 0, 0, 1, 1, 1, 0, 1, 0, 1, 2, 2, 2, 0, 0, 1, 0, 0, 1,\n",
       "       1, 1, 1, 1, 0, 2, 0, 1, 1, 0, 1, 0, 2, 2, 1, 1, 2, 2, 2, 0, 1, 0,\n",
       "       2, 2, 1, 2, 1, 2, 0, 2, 0, 0, 1, 0, 0, 0, 0, 1, 1, 1, 0, 0, 0, 0,\n",
       "       2, 0, 0, 1, 1, 0, 0, 0, 2, 1, 1, 0, 0, 0, 2, 2, 0, 1, 1, 1, 0, 2,\n",
       "       0, 1, 2, 0, 0, 1, 0, 1, 1, 1, 0, 0, 0, 2, 2, 2, 1, 0, 1, 2, 0, 1,\n",
       "       1, 2, 1, 0, 0, 1, 1, 0, 1, 0, 0, 1, 2, 0, 1, 1, 2, 0, 0, 2, 2, 2,\n",
       "       0, 2, 2, 1, 0, 0, 1, 1, 1, 2, 2, 0, 1, 0, 1, 0, 0, 1, 2, 0, 0, 2,\n",
       "       2, 0, 0, 2, 0, 0, 2, 0, 0, 0], dtype=int64)"
      ]
     },
     "execution_count": 22,
     "metadata": {},
     "output_type": "execute_result"
    }
   ],
   "source": [
    "assigned_clusters = np.array(assigned_clusters)\n",
    "assigned_clusters"
   ]
  },
  {
   "cell_type": "code",
   "execution_count": 23,
   "metadata": {},
   "outputs": [],
   "source": [
    "df0= df[assigned_clusters==0]\n",
    "df1=df[assigned_clusters==1]\n",
    "df2 =df[assigned_clusters==2]"
   ]
  },
  {
   "cell_type": "code",
   "execution_count": 24,
   "metadata": {},
   "outputs": [
    {
     "data": {
      "image/png": "[encoded data removed]",
      "text/plain": [
       "<Figure size 432x288 with 1 Axes>"
      ]
     },
     "metadata": {
      "needs_background": "light"
     },
     "output_type": "display_data"
    }
   ],
   "source": [
    "#Plot clusters with randomly generated centroids\n",
    "plt.scatter(df0['X'],df0['Y'])\n",
    "plt.scatter(df1['X'],df1['Y'])\n",
    "plt.scatter(df2['X'],df2['Y'])\n",
    "plt.scatter(centroids[0][0], centroids[0][1], c='black')\n",
    "plt.scatter(centroids[1][0], centroids[1][1], c='black')\n",
    "plt.scatter(centroids[2][0], centroids[2][1], c='black')\n",
    "plt.show()"
   ]
  },
  {
   "cell_type": "code",
   "execution_count": 25,
   "metadata": {},
   "outputs": [
    {
     "data": {
      "text/plain": [
       "824"
      ]
     },
     "execution_count": 25,
     "metadata": {},
     "output_type": "execute_result"
    }
   ],
   "source": [
    "len(assigned_clusters)"
   ]
  },
  {
   "cell_type": "code",
   "execution_count": 69,
   "metadata": {},
   "outputs": [],
   "source": [
    "#4 find new centroids. New centroid is the average of the values in a cluster\n",
    "\n",
    "\n",
    "def findNewCentroid(df, clusterID, n_clusters):\n",
    "    new_centroid=[]\n",
    "    for i in range(0,n_clusters):\n",
    "        new_centroid.append(np.mean(df[clusterID==i]))\n",
    "    return new_centroid"
   ]
  },
  {
   "cell_type": "code",
   "execution_count": 81,
   "metadata": {},
   "outputs": [
    {
     "data": {
      "text/plain": [
       "[X        0.035481\n",
       " Y        0.449092\n",
       " Class    0.570470\n",
       " dtype: float64, X       -0.423568\n",
       " Y       -1.807290\n",
       " Class    1.016502\n",
       " dtype: float64, X        0.256839\n",
       " Y       -0.362485\n",
       " Class    1.605381\n",
       " dtype: float64]"
      ]
     },
     "execution_count": 81,
     "metadata": {},
     "output_type": "execute_result"
    }
   ],
   "source": [
    "new_centroids = findNewCentroid(df, assigned_clusters,3)\n",
    "new_centroids"
   ]
  },
  {
   "cell_type": "code",
   "execution_count": 28,
   "metadata": {},
   "outputs": [],
   "source": [
    "# Make new clusters\n",
    "new_clusters = makeClusters(new_centroids, df)"
   ]
  },
  {
   "cell_type": "code",
   "execution_count": 29,
   "metadata": {},
   "outputs": [],
   "source": [
    "new_clusters = np.array(new_clusters)"
   ]
  },
  {
   "cell_type": "code",
   "execution_count": 30,
   "metadata": {},
   "outputs": [],
   "source": [
    "df0= df[new_clusters==0]\n",
    "df1=df[new_clusters==1]\n",
    "df2 =df[new_clusters==2]"
   ]
  },
  {
   "cell_type": "code",
   "execution_count": 31,
   "metadata": {},
   "outputs": [
    {
     "data": {
      "image/png": "[encoded data removed]",
      "text/plain": [
       "<Figure size 432x288 with 1 Axes>"
      ]
     },
     "metadata": {
      "needs_background": "light"
     },
     "output_type": "display_data"
    }
   ],
   "source": [
    "#Make new plot with new clusters assignments and centrouds\n",
    "plt.scatter(df0['X'],df0['Y'])\n",
    "plt.scatter(df1['X'],df1['Y'])\n",
    "plt.scatter(df2['X'],df2['Y'])\n",
    "plt.scatter(new_centroids[0][0], new_centroids[0][1], c='black')\n",
    "plt.scatter(new_centroids[1][0], new_centroids[1][1], c='black')\n",
    "plt.scatter(new_centroids[2][0], new_centroids[2][1], c='black')\n",
    "plt.title(\"Updated My_Kmeans\")\n",
    "plt.show()"
   ]
  },
  {
   "cell_type": "code",
   "execution_count": null,
   "metadata": {},
   "outputs": [],
   "source": []
  },
  {
   "cell_type": "markdown",
   "metadata": {},
   "source": []
  },
  {
   "cell_type": "markdown",
   "metadata": {},
   "source": [
    "1-e. Using `MY_KMeans` with the pre-determined $K$ value from 1-c, do the clustering.  After the clustering, find the centroid of each cluster id and report. (4 pts)"
   ]
  },
  {
   "cell_type": "code",
   "execution_count": 32,
   "metadata": {},
   "outputs": [
    {
     "data": {
      "text/plain": [
       "array([[ 0.26922445,  0.23535121],\n",
       "       [-0.44490254, -0.93138363],\n",
       "       [ 0.27159465, -0.25583208]])"
      ]
     },
     "execution_count": 32,
     "metadata": {},
     "output_type": "execute_result"
    }
   ],
   "source": [
    "#After implementing my own kmeans we had initial centrouds of \n",
    "centroids"
   ]
  },
  {
   "cell_type": "code",
   "execution_count": 33,
   "metadata": {},
   "outputs": [
    {
     "data": {
      "text/plain": [
       "[X    0.035481\n",
       " Y    0.449092\n",
       " dtype: float64, X   -0.423568\n",
       " Y   -1.807290\n",
       " dtype: float64, X    0.256839\n",
       " Y   -0.362485\n",
       " dtype: float64]"
      ]
     },
     "execution_count": 33,
     "metadata": {},
     "output_type": "execute_result"
    }
   ],
   "source": [
    "#and after one round of kmeans we have the following centrouds\n",
    "new_centroids"
   ]
  },
  {
   "cell_type": "markdown",
   "metadata": {},
   "source": [
    "1-f. Add the cluter label to the dataframe and call it `Class`. Make a plot and indicate the centroids. (2 pts)"
   ]
  },
  {
   "cell_type": "code",
   "execution_count": 34,
   "metadata": {},
   "outputs": [],
   "source": [
    "df['Class'] = labels"
   ]
  },
  {
   "cell_type": "code",
   "execution_count": 35,
   "metadata": {},
   "outputs": [
    {
     "data": {
      "text/html": [
       "<div>\n",
       "<style scoped>\n",
       "    .dataframe tbody tr th:only-of-type {\n",
       "        vertical-align: middle;\n",
       "    }\n",
       "\n",
       "    .dataframe tbody tr th {\n",
       "        vertical-align: top;\n",
       "    }\n",
       "\n",
       "    .dataframe thead th {\n",
       "        text-align: right;\n",
       "    }\n",
       "</style>\n",
       "<table border=\"1\" class=\"dataframe\">\n",
       "  <thead>\n",
       "    <tr style=\"text-align: right;\">\n",
       "      <th></th>\n",
       "      <th>X</th>\n",
       "      <th>Y</th>\n",
       "      <th>Class</th>\n",
       "    </tr>\n",
       "  </thead>\n",
       "  <tbody>\n",
       "    <tr>\n",
       "      <th>0</th>\n",
       "      <td>-0.169793</td>\n",
       "      <td>1.073745</td>\n",
       "      <td>0</td>\n",
       "    </tr>\n",
       "    <tr>\n",
       "      <th>1</th>\n",
       "      <td>1.128729</td>\n",
       "      <td>-2.395042</td>\n",
       "      <td>1</td>\n",
       "    </tr>\n",
       "    <tr>\n",
       "      <th>2</th>\n",
       "      <td>0.122506</td>\n",
       "      <td>-0.973069</td>\n",
       "      <td>2</td>\n",
       "    </tr>\n",
       "    <tr>\n",
       "      <th>3</th>\n",
       "      <td>-0.409200</td>\n",
       "      <td>0.129649</td>\n",
       "      <td>0</td>\n",
       "    </tr>\n",
       "    <tr>\n",
       "      <th>4</th>\n",
       "      <td>0.476229</td>\n",
       "      <td>-0.048147</td>\n",
       "      <td>2</td>\n",
       "    </tr>\n",
       "  </tbody>\n",
       "</table>\n",
       "</div>"
      ],
      "text/plain": [
       "          X         Y  Class\n",
       "0 -0.169793  1.073745      0\n",
       "1  1.128729 -2.395042      1\n",
       "2  0.122506 -0.973069      2\n",
       "3 -0.409200  0.129649      0\n",
       "4  0.476229 -0.048147      2"
      ]
     },
     "execution_count": 35,
     "metadata": {},
     "output_type": "execute_result"
    }
   ],
   "source": [
    "df.head()"
   ]
  },
  {
   "cell_type": "code",
   "execution_count": 36,
   "metadata": {},
   "outputs": [
    {
     "data": {
      "image/png": "[encoded data removed]",
      "text/plain": [
       "<Figure size 432x288 with 1 Axes>"
      ]
     },
     "metadata": {
      "needs_background": "light"
     },
     "output_type": "display_data"
    }
   ],
   "source": [
    "plt.scatter(filtered0.iloc[:,0], filtered0.iloc[:,1])\n",
    "plt.scatter(filtered1.iloc[:,0],filtered1.iloc[:,1])\n",
    "plt.scatter(filtered2.iloc[:,0],filtered2.iloc[:,1])\n",
    "plt.scatter(centers[:,0],centers[:,1], color = 'black')\n",
    "plt.xlabel('X')\n",
    "plt.ylabel('Y')\n",
    "plt.title('Kmeans plot K=3')\n",
    "plt.show()"
   ]
  },
  {
   "cell_type": "markdown",
   "metadata": {},
   "source": [
    "1-g. Load a given data set `HW2_Q1_1.csv`. Here you have true cluter ids. (4 pts)\n",
    "- Make a box plot by the ids and make a discrete statistical analysis. Here, you also have to make a box plot with your result from 1-f and compare. \n",
    "- Is your pre-determined $K$ value the same as the true $K$ value? Explain. \n",
    "- If not, do the clustering again using `MY_KMeans` with the true $K$ value. "
   ]
  },
  {
   "cell_type": "code",
   "execution_count": 37,
   "metadata": {},
   "outputs": [],
   "source": [
    "dfQ2 = pd.read_csv('HW2_Q2_1.csv')"
   ]
  },
  {
   "cell_type": "code",
   "execution_count": 38,
   "metadata": {},
   "outputs": [],
   "source": [
    "dfQ2.columns= ['X', 'Y', 'Class']"
   ]
  },
  {
   "cell_type": "code",
   "execution_count": 39,
   "metadata": {},
   "outputs": [
    {
     "data": {
      "text/html": [
       "<div>\n",
       "<style scoped>\n",
       "    .dataframe tbody tr th:only-of-type {\n",
       "        vertical-align: middle;\n",
       "    }\n",
       "\n",
       "    .dataframe tbody tr th {\n",
       "        vertical-align: top;\n",
       "    }\n",
       "\n",
       "    .dataframe thead th {\n",
       "        text-align: right;\n",
       "    }\n",
       "</style>\n",
       "<table border=\"1\" class=\"dataframe\">\n",
       "  <thead>\n",
       "    <tr style=\"text-align: right;\">\n",
       "      <th></th>\n",
       "      <th>X</th>\n",
       "      <th>Y</th>\n",
       "      <th>Class</th>\n",
       "    </tr>\n",
       "  </thead>\n",
       "  <tbody>\n",
       "    <tr>\n",
       "      <th>0</th>\n",
       "      <td>-0.169793</td>\n",
       "      <td>1.073745</td>\n",
       "      <td>1</td>\n",
       "    </tr>\n",
       "    <tr>\n",
       "      <th>1</th>\n",
       "      <td>1.128729</td>\n",
       "      <td>-2.395042</td>\n",
       "      <td>6</td>\n",
       "    </tr>\n",
       "    <tr>\n",
       "      <th>2</th>\n",
       "      <td>0.122506</td>\n",
       "      <td>-0.973069</td>\n",
       "      <td>1</td>\n",
       "    </tr>\n",
       "    <tr>\n",
       "      <th>3</th>\n",
       "      <td>-0.409200</td>\n",
       "      <td>0.129649</td>\n",
       "      <td>2</td>\n",
       "    </tr>\n",
       "    <tr>\n",
       "      <th>4</th>\n",
       "      <td>0.476229</td>\n",
       "      <td>-0.048147</td>\n",
       "      <td>2</td>\n",
       "    </tr>\n",
       "  </tbody>\n",
       "</table>\n",
       "</div>"
      ],
      "text/plain": [
       "          X         Y  Class\n",
       "0 -0.169793  1.073745      1\n",
       "1  1.128729 -2.395042      6\n",
       "2  0.122506 -0.973069      1\n",
       "3 -0.409200  0.129649      2\n",
       "4  0.476229 -0.048147      2"
      ]
     },
     "execution_count": 39,
     "metadata": {},
     "output_type": "execute_result"
    }
   ],
   "source": [
    "dfQ2.head()"
   ]
  },
  {
   "cell_type": "code",
   "execution_count": 40,
   "metadata": {},
   "outputs": [
    {
     "data": {
      "image/png": "[encoded data removed]",
      "text/plain": [
       "<Figure size 432x288 with 1 Axes>"
      ]
     },
     "metadata": {
      "needs_background": "light"
     },
     "output_type": "display_data"
    }
   ],
   "source": [
    "dfQ2.boxplot()\n",
    "dfQ2.boxplot().set_ylim(-2,7)\n",
    "plt.title('DFQ2 \"True\" Boxplot')\n",
    "plt.show()"
   ]
  },
  {
   "cell_type": "code",
   "execution_count": 41,
   "metadata": {},
   "outputs": [
    {
     "data": {
      "image/png": "[encoded data removed]",
      "text/plain": [
       "<Figure size 432x288 with 1 Axes>"
      ]
     },
     "metadata": {
      "needs_background": "light"
     },
     "output_type": "display_data"
    }
   ],
   "source": [
    "df.boxplot()\n",
    "df.boxplot().set_ylim(-2,7)\n",
    "plt.title('DF \"MyKmeans\" Boxplot')\n",
    "plt.show()"
   ]
  },
  {
   "cell_type": "code",
   "execution_count": 42,
   "metadata": {},
   "outputs": [],
   "source": [
    "#Redoing the My_Kmeans with K = 6"
   ]
  },
  {
   "cell_type": "code",
   "execution_count": 43,
   "metadata": {},
   "outputs": [],
   "source": [
    "df_NoClass  = pd.read_csv('HW2_Q2_0.csv')\n",
    "df_NoClass.columns = (['X','Y'])"
   ]
  },
  {
   "cell_type": "code",
   "execution_count": 44,
   "metadata": {},
   "outputs": [],
   "source": [
    "#pick three random points as centroid\n",
    "points = random.sample(range(0,len(df_NoClass)),6)"
   ]
  },
  {
   "cell_type": "code",
   "execution_count": 47,
   "metadata": {},
   "outputs": [
    {
     "name": "stdout",
     "output_type": "stream",
     "text": [
      "[X   -0.100172\n",
      "Y   -1.091937\n",
      "Name: 369, dtype: float64, X   -0.793371\n",
      "Y   -1.998877\n",
      "Name: 17, dtype: float64, X    0.122506\n",
      "Y   -0.973069\n",
      "Name: 2, dtype: float64, X   -1.039421\n",
      "Y   -3.007928\n",
      "Name: 494, dtype: float64, X    0.604858\n",
      "Y    0.873589\n",
      "Name: 221, dtype: float64, X    0.362226\n",
      "Y    0.073827\n",
      "Name: 558, dtype: float64]\n"
     ]
    }
   ],
   "source": [
    "#get xy coordinated of these points\n",
    "centroidsK6 = []\n",
    "for i in points:\n",
    "    centroidsK6.append(df_NoClass.iloc[i])\n"
   ]
  },
  {
   "cell_type": "code",
   "execution_count": 48,
   "metadata": {},
   "outputs": [],
   "source": [
    "centroidsK6 = np.array(centroidsK6)"
   ]
  },
  {
   "cell_type": "code",
   "execution_count": 49,
   "metadata": {},
   "outputs": [
    {
     "data": {
      "text/plain": [
       "array([[-0.10017183, -1.09193699],\n",
       "       [-0.79337065, -1.99887718],\n",
       "       [ 0.12250626, -0.97306902],\n",
       "       [-1.03942095, -3.00792769],\n",
       "       [ 0.60485802,  0.87358932],\n",
       "       [ 0.36222565,  0.07382736]])"
      ]
     },
     "execution_count": 49,
     "metadata": {},
     "output_type": "execute_result"
    }
   ],
   "source": [
    "centroidsK6"
   ]
  },
  {
   "cell_type": "code",
   "execution_count": 62,
   "metadata": {},
   "outputs": [],
   "source": [
    "new_clustersK6 = makeClusters(centroidsK6,df.iloc[:,:2])\n",
    "new_clustersK6= np.array(new_clustersK6)"
   ]
  },
  {
   "cell_type": "code",
   "execution_count": 63,
   "metadata": {},
   "outputs": [
    {
     "data": {
      "text/plain": [
       "824"
      ]
     },
     "execution_count": 63,
     "metadata": {},
     "output_type": "execute_result"
    }
   ],
   "source": [
    "len(new_clustersK6)"
   ]
  },
  {
   "cell_type": "code",
   "execution_count": 70,
   "metadata": {},
   "outputs": [
    {
     "data": {
      "text/plain": [
       "[X   -0.583173\n",
       " Y   -0.734175\n",
       " dtype: float64, X   -0.704950\n",
       " Y   -2.028022\n",
       " dtype: float64, X    0.539479\n",
       " Y   -1.270711\n",
       " dtype: float64, X   -0.685576\n",
       " Y   -2.980181\n",
       " dtype: float64, X    0.218717\n",
       " Y    0.817723\n",
       " dtype: float64, X    0.030837\n",
       " Y    0.063393\n",
       " dtype: float64]"
      ]
     },
     "execution_count": 70,
     "metadata": {},
     "output_type": "execute_result"
    }
   ],
   "source": [
    "new_centroidsK6 = findNewCentroid(df.iloc[:,:2], new_clustersK6,6)\n",
    "new_centroidsK6"
   ]
  },
  {
   "cell_type": "code",
   "execution_count": null,
   "metadata": {},
   "outputs": [],
   "source": [
    "new_centroidsK"
   ]
  },
  {
   "cell_type": "code",
   "execution_count": 71,
   "metadata": {},
   "outputs": [],
   "source": [
    "new_clustersK6 = makeClusters(new_centroidsK6, df.iloc[:,:2])"
   ]
  },
  {
   "cell_type": "code",
   "execution_count": 76,
   "metadata": {},
   "outputs": [
    {
     "data": {
      "text/plain": [
       "array([4, 2, 2, 5, 5, 5, 5, 0, 5, 0, 4, 5, 5, 5, 5, 0, 3, 1, 2, 4, 2, 2,\n",
       "       4, 0, 4, 5, 5, 2, 5, 5, 5, 5, 1, 5, 5, 5, 1, 5, 1, 5, 5, 0, 3, 5,\n",
       "       5, 5, 5, 4, 1, 1, 1, 5, 0, 5, 5, 3, 0, 0, 1, 1, 5, 5, 1, 4, 0, 5,\n",
       "       5, 2, 0, 0, 5, 5, 5, 2, 3, 5, 2, 3, 5, 0, 5, 0, 1, 2, 0, 4, 3, 5,\n",
       "       5, 3, 0, 2, 3, 5, 5, 0, 3, 5, 2, 4, 1, 2, 3, 4, 4, 5, 5, 3, 3, 2,\n",
       "       0, 5, 4, 5, 4, 0, 5, 5, 5, 0, 5, 4, 0, 2, 5, 1, 5, 3, 2, 0, 0, 0,\n",
       "       2, 1, 5, 5, 4, 1, 3, 2, 5, 2, 5, 5, 5, 5, 3, 5, 5, 5, 1, 5, 0, 4,\n",
       "       4, 2, 1, 4, 5, 0, 5, 2, 0, 5, 3, 5, 4, 0, 2, 5, 3, 4, 0, 5, 5, 0,\n",
       "       2, 5, 5, 1, 5, 0, 5, 5, 3, 5, 0, 4, 4, 0, 0, 4, 5, 4, 2, 3, 5, 3,\n",
       "       5, 5, 0, 5, 2, 5, 3, 4, 5, 4, 5, 5, 5, 4, 1, 5, 5, 2, 0, 0, 4, 5,\n",
       "       5, 4, 5, 5, 5, 0, 5, 5, 2, 3, 5, 1, 4, 1, 2, 5, 1, 5, 5, 4, 4, 2,\n",
       "       1, 5, 5, 2, 2, 0, 5, 2, 4, 0, 5, 5, 3, 3, 5, 5, 1, 4, 5, 0, 5, 5,\n",
       "       0, 4, 1, 1, 4, 5, 1, 5, 2, 4, 0, 5, 4, 2, 1, 2, 1, 0, 2, 1, 5, 5,\n",
       "       0, 0, 3, 4, 4, 2, 5, 5, 0, 5, 5, 5, 5, 5, 5, 2, 5, 2, 4, 5, 5, 5,\n",
       "       5, 5, 5, 2, 5, 3, 5, 4, 5, 5, 0, 1, 0, 1, 5, 5, 5, 5, 2, 1, 5, 3,\n",
       "       5, 5, 5, 0, 1, 0, 3, 3, 0, 5, 5, 2, 5, 0, 3, 1, 0, 5, 5, 5, 5, 2,\n",
       "       2, 5, 4, 5, 0, 5, 1, 5, 2, 2, 5, 0, 4, 5, 5, 4, 5, 0, 5, 5, 1, 4,\n",
       "       4, 5, 5, 5, 3, 5, 1, 2, 1, 5, 4, 4, 5, 0, 2, 3, 5, 5, 5, 5, 4, 4,\n",
       "       5, 1, 1, 3, 0, 3, 0, 2, 0, 5, 0, 5, 3, 5, 4, 1, 5, 5, 5, 5, 5, 0,\n",
       "       5, 5, 2, 1, 0, 1, 5, 5, 3, 5, 4, 2, 2, 3, 2, 5, 4, 5, 2, 2, 5, 0,\n",
       "       4, 5, 5, 4, 4, 5, 5, 3, 0, 2, 4, 5, 5, 5, 4, 2, 5, 2, 2, 2, 0, 5,\n",
       "       3, 0, 2, 3, 5, 5, 5, 3, 3, 4, 5, 5, 5, 2, 4, 3, 5, 2, 5, 5, 5, 2,\n",
       "       2, 5, 4, 4, 0, 5, 5, 3, 3, 2, 3, 5, 5, 4, 5, 3, 5, 3, 3, 0, 3, 3,\n",
       "       5, 2, 1, 5, 5, 5, 3, 0, 4, 5, 3, 4, 4, 3, 5, 2, 2, 5, 0, 0, 0, 4,\n",
       "       4, 0, 5, 1, 0, 3, 5, 2, 5, 5, 2, 4, 4, 3, 5, 5, 5, 0, 5, 3, 1, 3,\n",
       "       5, 5, 5, 4, 4, 5, 4, 3, 5, 3, 1, 0, 5, 0, 0, 5, 2, 1, 3, 0, 0, 5,\n",
       "       4, 1, 0, 5, 5, 2, 5, 1, 5, 1, 5, 5, 5, 0, 5, 5, 5, 5, 5, 0, 5, 2,\n",
       "       5, 5, 2, 2, 5, 2, 4, 5, 5, 5, 1, 5, 3, 5, 1, 5, 0, 5, 5, 5, 4, 0,\n",
       "       1, 4, 5, 4, 0, 5, 0, 1, 4, 2, 5, 0, 5, 4, 0, 2, 1, 1, 5, 5, 5, 2,\n",
       "       5, 5, 3, 5, 5, 4, 5, 5, 4, 5, 2, 4, 2, 5, 4, 2, 4, 1, 5, 0, 2, 5,\n",
       "       5, 2, 5, 0, 5, 5, 3, 2, 0, 5, 0, 4, 1, 5, 5, 2, 4, 4, 0, 5, 5, 0,\n",
       "       0, 1, 2, 1, 5, 2, 4, 3, 3, 4, 1, 5, 2, 5, 3, 2, 5, 5, 5, 5, 1, 5,\n",
       "       5, 2, 1, 5, 3, 5, 4, 0, 5, 5, 1, 4, 4, 5, 5, 1, 3, 0, 5, 4, 5, 4,\n",
       "       2, 4, 5, 1, 1, 5, 5, 5, 5, 3, 1, 4, 4, 5, 2, 5, 5, 3, 0, 2, 5, 5,\n",
       "       4, 0, 5, 5, 4, 0, 5, 1, 2, 0, 5, 5, 4, 5, 5, 5, 1, 5, 1, 5, 4, 3,\n",
       "       2, 2, 2, 5, 5, 2, 1, 5, 1, 4, 5, 0, 5, 5, 2, 2, 5, 4, 4, 5, 2, 5,\n",
       "       5, 5, 5, 3, 4, 5, 3, 0, 1, 5, 5, 5, 1, 4, 0, 5, 5, 2, 5, 5, 5, 2,\n",
       "       5, 5, 4, 5, 5, 4, 5, 4, 5, 5], dtype=int64)"
      ]
     },
     "execution_count": 76,
     "metadata": {},
     "output_type": "execute_result"
    }
   ],
   "source": [
    "new_clustersK6 = np.array(new_clustersK6)\n"
   ]
  },
  {
   "cell_type": "code",
   "execution_count": 79,
   "metadata": {},
   "outputs": [],
   "source": [
    "dfK6_0 = df.iloc[:,:2][new_clustersK6==0]\n",
    "dfK6_1 = df.iloc[:,:2][new_clustersK6==1]\n",
    "dfK6_2 = df.iloc[:,:2][new_clustersK6==2]\n",
    "dfK6_3 = df.iloc[:,:2][new_clustersK6==3]\n",
    "dfK6_4 = df.iloc[:,:2][new_clustersK6==4]\n",
    "dfK6_5 = df.iloc[:,:2][new_clustersK6==5]"
   ]
  },
  {
   "cell_type": "code",
   "execution_count": 84,
   "metadata": {},
   "outputs": [
    {
     "data": {
      "image/png": "[encoded data removed]",
      "text/plain": [
       "<Figure size 432x288 with 1 Axes>"
      ]
     },
     "metadata": {
      "needs_background": "light"
     },
     "output_type": "display_data"
    }
   ],
   "source": [
    "#Plot new clusters and k= 6 Centroids \n",
    "\n",
    "plt.scatter(dfK6_0.iloc[:,0],dfK6_0.iloc[:,1])\n",
    "plt.scatter(dfK6_1.iloc[:,0],dfK6_1.iloc[:,1])\n",
    "plt.scatter(dfK6_2.iloc[:,0],dfK6_2.iloc[:,1])\n",
    "plt.scatter(dfK6_3.iloc[:,0],dfK6_3.iloc[:,1])\n",
    "plt.scatter(dfK6_4.iloc[:,0],dfK6_4.iloc[:,1])\n",
    "plt.scatter(dfK6_5.iloc[:,0],dfK6_5.iloc[:,1])\n",
    "#plt.scatter(new_centroidsK6.iloc[:,0],newcentroidsK6.iloc[:,1])\n",
    "plt.scatter(new_centroidsK6[0][0], new_centroidsK6[0][1], c='black')\n",
    "plt.scatter(new_centroidsK6[1][0], new_centroidsK6[1][1], c='black')\n",
    "plt.scatter(new_centroidsK6[2][0], new_centroidsK6[2][1], c='black')\n",
    "plt.scatter(new_centroidsK6[3][0], new_centroidsK6[3][1], c='black')\n",
    "plt.scatter(new_centroidsK6[4][0], new_centroidsK6[4][1], c='black')\n",
    "plt.scatter(new_centroidsK6[5][0], new_centroidsK6[5][1], c='black')\n",
    "plt.title(\"My_Kmeans K=6\")\n",
    "plt.show()"
   ]
  },
  {
   "cell_type": "markdown",
   "metadata": {},
   "source": [
    "1-h. Evalaute your result. (5 pts)"
   ]
  },
  {
   "cell_type": "code",
   "execution_count": 84,
   "metadata": {},
   "outputs": [
    {
     "data": {
      "text/plain": [
       "'\\nWhen comparing the box plot made from df and MyKmeans to the boxplot made from dfQ2 one main difference. \\nThe number of classes in MyKmeans has a total of 3 classes with a mean of class 1, while in dfQ2 there are are 6 classes with a mean of class 2.\\nAs a result the MyKmeans K values is different than that of dfQ2. Additionally, the distributions of of the X and Y features of both datasets seem to be the same,\\n  \\n'"
      ]
     },
     "execution_count": 84,
     "metadata": {},
     "output_type": "execute_result"
    }
   ],
   "source": [
    "\"\"\"\n",
    "When comparing the box plot made from df and MyKmeans to the boxplot made from dfQ2 one main difference. \n",
    "The number of classes in MyKmeans has a total of 3 classes with a mean of class 1, while in dfQ2 there are are 6 classes with a mean of class 2.\n",
    "As a result the MyKmeans K values is different than that of dfQ2. Additionally, the distributions of of the X and Y features of both datasets seem to be the same.\n",
    "Now that we know the true K value, the MYKmeans was repruduced using a k value of 6 and produces the above chart.\n",
    "The higher K value of 6 allows for data points to be seperated based on a higher degree of similiarity.\n",
    "\"\"\"\n"
   ]
  },
  {
   "cell_type": "markdown",
   "metadata": {},
   "source": [
    "## Problem 2 - Clustering Using Hierarchal Clustering [10 pts]\n",
    "\n",
    "In this problem, you will make a dendrogram using Hierarchal clustering method and compare with the result you obtained from Problem #1. \n",
    "\n",
    "2-a. Do the hierarchal clustering with various distances and linkages. [8 pts]"
   ]
  },
  {
   "cell_type": "code",
   "execution_count": null,
   "metadata": {},
   "outputs": [],
   "source": []
  },
  {
   "cell_type": "code",
   "execution_count": 48,
   "metadata": {},
   "outputs": [],
   "source": [
    "from sklearn.cluster import AgglomerativeClustering\n",
    "from scipy.cluster.hierarchy import dendrogram, linkage"
   ]
  },
  {
   "cell_type": "code",
   "execution_count": 49,
   "metadata": {},
   "outputs": [],
   "source": [
    "heir = AgglomerativeClustering()"
   ]
  },
  {
   "cell_type": "code",
   "execution_count": 50,
   "metadata": {},
   "outputs": [
    {
     "data": {
      "text/plain": [
       "AgglomerativeClustering(affinity='euclidean', compute_full_tree='auto',\n",
       "                        connectivity=None, distance_threshold=None,\n",
       "                        linkage='average', memory=None, n_clusters=3,\n",
       "                        pooling_func='deprecated')"
      ]
     },
     "execution_count": 50,
     "metadata": {},
     "output_type": "execute_result"
    }
   ],
   "source": [
    "#use N = 3 clusters euclidean distance measuremnet and avaerage linkage \n",
    "heir.set_params(n_clusters=3, affinity=\"euclidean\", linkage='average')"
   ]
  },
  {
   "cell_type": "code",
   "execution_count": 51,
   "metadata": {},
   "outputs": [
    {
     "data": {
      "text/plain": [
       "AgglomerativeClustering(affinity='euclidean', compute_full_tree='auto',\n",
       "                        connectivity=None, distance_threshold=None,\n",
       "                        linkage='average', memory=None, n_clusters=3,\n",
       "                        pooling_func='deprecated')"
      ]
     },
     "execution_count": 51,
     "metadata": {},
     "output_type": "execute_result"
    }
   ],
   "source": [
    "heir.fit(df)"
   ]
  },
  {
   "cell_type": "code",
   "execution_count": 52,
   "metadata": {},
   "outputs": [],
   "source": [
    "labels1 = heir.labels_"
   ]
  },
  {
   "cell_type": "code",
   "execution_count": 53,
   "metadata": {},
   "outputs": [
    {
     "data": {
      "text/plain": [
       "AgglomerativeClustering(affinity='euclidean', compute_full_tree='auto',\n",
       "                        connectivity=None, distance_threshold=None,\n",
       "                        linkage='ward', memory=None, n_clusters=3,\n",
       "                        pooling_func='deprecated')"
      ]
     },
     "execution_count": 53,
     "metadata": {},
     "output_type": "execute_result"
    }
   ],
   "source": [
    "#Second attempt with Now with euclidean distance and ward\n",
    "heir.set_params(n_clusters = 3, affinity=\"euclidean\", linkage=\"ward\")"
   ]
  },
  {
   "cell_type": "code",
   "execution_count": 54,
   "metadata": {},
   "outputs": [],
   "source": [
    "heir.fit(df)\n",
    "labels2=heir.labels_"
   ]
  },
  {
   "cell_type": "code",
   "execution_count": 55,
   "metadata": {},
   "outputs": [
    {
     "data": {
      "text/plain": [
       "AgglomerativeClustering(affinity='euclidean', compute_full_tree='auto',\n",
       "                        connectivity=None, distance_threshold=None,\n",
       "                        linkage='complete', memory=None, n_clusters=3,\n",
       "                        pooling_func='deprecated')"
      ]
     },
     "execution_count": 55,
     "metadata": {},
     "output_type": "execute_result"
    }
   ],
   "source": [
    "#Third attempt with euclidean distance and complete linkage \n",
    "heir.set_params(n_clusters=3, affinity=\"euclidean\", linkage='complete')"
   ]
  },
  {
   "cell_type": "code",
   "execution_count": 56,
   "metadata": {},
   "outputs": [],
   "source": [
    "heir.fit(df)\n",
    "labels3= heir.labels_"
   ]
  },
  {
   "cell_type": "code",
   "execution_count": 57,
   "metadata": {},
   "outputs": [
    {
     "data": {
      "text/plain": [
       "AgglomerativeClustering(affinity='manhattan', compute_full_tree='auto',\n",
       "                        connectivity=None, distance_threshold=None,\n",
       "                        linkage='complete', memory=None, n_clusters=3,\n",
       "                        pooling_func='deprecated')"
      ]
     },
     "execution_count": 57,
     "metadata": {},
     "output_type": "execute_result"
    }
   ],
   "source": [
    "# Fourth attempt with manhattan distance and complete linkage\n",
    "heir.set_params(n_clusters=3, affinity='manhattan',linkage='complete')"
   ]
  },
  {
   "cell_type": "code",
   "execution_count": 58,
   "metadata": {},
   "outputs": [],
   "source": [
    "heir.fit(df)\n",
    "labels4 = heir.labels_"
   ]
  },
  {
   "cell_type": "code",
   "execution_count": null,
   "metadata": {},
   "outputs": [],
   "source": []
  },
  {
   "cell_type": "code",
   "execution_count": null,
   "metadata": {},
   "outputs": [],
   "source": []
  },
  {
   "cell_type": "markdown",
   "metadata": {},
   "source": [
    "2-b. Which distance and linkage provide the best and worst result? You can make numerical and/or graphical comparisons. For example, you can count the number of cluster IDs that are correctly clustered from the true labels and find its ratio. [2 pts]"
   ]
  },
  {
   "cell_type": "code",
   "execution_count": 85,
   "metadata": {},
   "outputs": [
    {
     "data": {
      "text/plain": [
       "array([1, 6, 1, 2, 2, 2, 2, 1, 2, 1, 1, 2, 1, 2, 2, 1, 4, 3, 1, 1, 6, 1,\n",
       "       1, 1, 1, 2, 2, 1, 2, 2, 2, 1, 3, 1, 2, 2, 3, 2, 3, 2, 2, 1, 4, 2,\n",
       "       2, 2, 2, 1, 3, 5, 3, 2, 5, 2, 2, 5, 1, 1, 3, 3, 2, 2, 3, 2, 1, 2,\n",
       "       1, 6, 5, 1, 1, 2, 1, 6, 4, 2, 6, 4, 2, 1, 2, 2, 3, 1, 5, 1, 4, 2,\n",
       "       2, 4, 1, 1, 4, 2, 2, 1, 4, 2, 1, 1, 3, 6, 4, 1, 1, 5, 2, 4, 4, 1,\n",
       "       1, 2, 1, 2, 1, 1, 1, 2, 2, 1, 1, 1, 1, 6, 1, 3, 2, 4, 5, 1, 1, 1,\n",
       "       1, 3, 2, 2, 1, 3, 4, 5, 2, 6, 2, 2, 2, 1, 4, 2, 2, 2, 3, 1, 1, 1,\n",
       "       1, 1, 3, 1, 2, 1, 2, 5, 1, 5, 4, 2, 1, 1, 5, 2, 4, 1, 1, 2, 1, 1,\n",
       "       1, 2, 2, 3, 2, 1, 2, 2, 4, 2, 1, 1, 1, 1, 1, 1, 2, 1, 1, 4, 2, 4,\n",
       "       2, 2, 1, 2, 1, 2, 4, 1, 2, 1, 2, 2, 2, 1, 3, 2, 2, 1, 1, 1, 1, 2,\n",
       "       2, 1, 2, 2, 2, 1, 2, 2, 1, 4, 1, 3, 1, 3, 1, 2, 3, 1, 2, 1, 1, 1,\n",
       "       3, 2, 2, 6, 1, 5, 2, 6, 1, 1, 1, 2, 4, 4, 2, 1, 5, 1, 2, 1, 2, 2,\n",
       "       1, 1, 3, 3, 1, 2, 3, 2, 6, 1, 1, 2, 1, 1, 3, 6, 3, 1, 1, 3, 2, 2,\n",
       "       1, 1, 4, 1, 1, 6, 2, 5, 1, 2, 2, 1, 2, 1, 2, 6, 1, 5, 5, 2, 2, 2,\n",
       "       2, 2, 2, 1, 2, 4, 5, 1, 2, 2, 1, 3, 1, 5, 2, 1, 1, 2, 1, 3, 2, 4,\n",
       "       2, 1, 2, 1, 3, 2, 4, 4, 1, 2, 2, 1, 2, 1, 4, 3, 1, 2, 1, 2, 5, 6,\n",
       "       5, 2, 1, 2, 1, 2, 3, 2, 6, 1, 2, 1, 1, 2, 1, 1, 2, 1, 2, 2, 3, 1,\n",
       "       1, 2, 2, 2, 4, 2, 3, 1, 3, 2, 1, 1, 2, 1, 6, 4, 2, 2, 2, 2, 1, 1,\n",
       "       2, 3, 5, 4, 1, 4, 1, 6, 2, 2, 5, 2, 4, 2, 5, 3, 1, 2, 2, 2, 1, 1,\n",
       "       2, 1, 6, 3, 5, 3, 2, 1, 4, 2, 1, 5, 1, 4, 6, 2, 1, 2, 6, 1, 1, 1,\n",
       "       1, 2, 2, 1, 1, 2, 2, 4, 1, 1, 1, 2, 2, 2, 1, 5, 2, 1, 6, 6, 1, 2,\n",
       "       4, 1, 6, 4, 2, 1, 2, 4, 4, 1, 2, 2, 2, 1, 1, 4, 2, 6, 2, 2, 2, 1,\n",
       "       1, 2, 1, 1, 1, 2, 2, 4, 4, 6, 4, 2, 2, 1, 2, 4, 1, 4, 4, 1, 4, 4,\n",
       "       2, 1, 3, 2, 2, 2, 4, 1, 1, 2, 4, 1, 2, 4, 2, 1, 1, 2, 1, 1, 2, 1,\n",
       "       1, 1, 2, 3, 1, 4, 2, 1, 2, 1, 1, 1, 1, 4, 2, 2, 2, 1, 2, 4, 3, 4,\n",
       "       2, 2, 2, 1, 5, 2, 1, 4, 2, 4, 3, 1, 2, 1, 1, 2, 1, 3, 4, 1, 1, 2,\n",
       "       1, 3, 1, 2, 1, 1, 2, 3, 2, 3, 1, 2, 2, 1, 2, 2, 2, 2, 2, 1, 2, 1,\n",
       "       2, 2, 5, 6, 2, 5, 1, 2, 2, 2, 3, 2, 4, 2, 3, 2, 1, 2, 2, 1, 1, 1,\n",
       "       3, 1, 5, 1, 1, 2, 2, 3, 1, 6, 2, 1, 2, 1, 1, 1, 3, 5, 2, 2, 2, 1,\n",
       "       2, 2, 4, 2, 2, 1, 2, 2, 1, 1, 6, 1, 5, 2, 1, 6, 1, 3, 1, 1, 6, 2,\n",
       "       2, 1, 2, 1, 2, 2, 4, 6, 1, 1, 1, 1, 3, 2, 2, 1, 1, 1, 1, 2, 1, 1,\n",
       "       1, 3, 1, 3, 2, 1, 1, 4, 4, 1, 3, 2, 1, 2, 4, 6, 2, 2, 2, 2, 3, 1,\n",
       "       2, 1, 3, 2, 4, 2, 1, 2, 2, 2, 3, 1, 1, 2, 2, 5, 4, 1, 2, 1, 2, 1,\n",
       "       1, 1, 2, 3, 3, 2, 2, 1, 2, 4, 3, 1, 1, 2, 1, 2, 2, 4, 1, 1, 2, 2,\n",
       "       1, 1, 1, 2, 1, 1, 1, 3, 6, 1, 2, 2, 1, 1, 2, 2, 3, 2, 3, 2, 1, 4,\n",
       "       6, 5, 6, 2, 1, 6, 3, 2, 3, 1, 2, 1, 2, 2, 1, 1, 2, 1, 1, 2, 1, 2,\n",
       "       2, 2, 2, 4, 1, 2, 4, 1, 3, 2, 2, 2, 5, 2, 1, 2, 2, 6, 1, 1, 2, 1,\n",
       "       2, 2, 1, 2, 2, 1, 2, 1, 2, 2], dtype=int64)"
      ]
     },
     "execution_count": 85,
     "metadata": {},
     "output_type": "execute_result"
    }
   ],
   "source": [
    "#get true labels\n",
    "trueLabels = dfQ2['Class']\n",
    "trueLabels = np.array(trueLabels)\n",
    "trueLabels"
   ]
  },
  {
   "cell_type": "code",
   "execution_count": 90,
   "metadata": {},
   "outputs": [
    {
     "data": {
      "text/plain": [
       "824"
      ]
     },
     "execution_count": 90,
     "metadata": {},
     "output_type": "execute_result"
    }
   ],
   "source": [
    "#compare labels1 - labels4 with true labels\n",
    "compare1 = np.equal(trueLabels,labels1)\n"
   ]
  },
  {
   "cell_type": "code",
   "execution_count": 91,
   "metadata": {},
   "outputs": [
    {
     "data": {
      "text/plain": [
       "0.38228155339805825"
      ]
     },
     "execution_count": 91,
     "metadata": {},
     "output_type": "execute_result"
    }
   ],
   "source": [
    "#for N = 3 clusters euclidean distance measuremnet and avaerage linkage the correct labels ratio is\n",
    "ratio1=compare1.sum()/len(compare1)\n",
    "ratio1"
   ]
  },
  {
   "cell_type": "code",
   "execution_count": 93,
   "metadata": {},
   "outputs": [
    {
     "data": {
      "text/plain": [
       "0.35558252427184467"
      ]
     },
     "execution_count": 93,
     "metadata": {},
     "output_type": "execute_result"
    }
   ],
   "source": [
    "# for the Second attempt with Now with euclidean distance and wardthe correct labels ratio is \n",
    "compare2 = np.equal(trueLabels, labels2)\n",
    "ratio2= compare2.sum()/len(compare2)\n",
    "ratio2"
   ]
  },
  {
   "cell_type": "code",
   "execution_count": 95,
   "metadata": {},
   "outputs": [
    {
     "data": {
      "text/plain": [
       "0.38228155339805825"
      ]
     },
     "execution_count": 95,
     "metadata": {},
     "output_type": "execute_result"
    }
   ],
   "source": [
    "##The ratio for the third attempt with euclidean distance and complete linkage is\n",
    "compare3 = np.equal(trueLabels,labels3)\n",
    "ratio3 = compare3.sum()/len(compare3)\n",
    "ratio3"
   ]
  },
  {
   "cell_type": "code",
   "execution_count": 97,
   "metadata": {},
   "outputs": [
    {
     "data": {
      "text/plain": [
       "0.35558252427184467"
      ]
     },
     "execution_count": 97,
     "metadata": {},
     "output_type": "execute_result"
    }
   ],
   "source": [
    "#The ratio for the Fourth attempt with manhattan distance and complete linkage is\n",
    "compare4 = np.equal(trueLabels, labels4)\n",
    "ratio4 = compare4.sum()/len(labels4)\n",
    "ratio4"
   ]
  },
  {
   "cell_type": "code",
   "execution_count": 98,
   "metadata": {},
   "outputs": [],
   "source": [
    "#The First and third attempts where euclidean distance and either the average linkage or complete linkage is used produce the \n",
    "#largest raio of 0.3822"
   ]
  },
  {
   "cell_type": "code",
   "execution_count": null,
   "metadata": {},
   "outputs": [],
   "source": []
  },
  {
   "cell_type": "code",
   "execution_count": null,
   "metadata": {},
   "outputs": [],
   "source": []
  },
  {
   "cell_type": "markdown",
   "metadata": {},
   "source": [
    "## Problem 3 - Principal Component Analysis [15 pts]\n",
    "\n",
    "3-a. Run the following codes. "
   ]
  },
  {
   "cell_type": "code",
   "execution_count": 99,
   "metadata": {},
   "outputs": [],
   "source": [
    "import numpy as np\n",
    "\n",
    "np.random.seed(2342)\n",
    "mu_vec1 = np.array([0,0,0])\n",
    "cov_mat1 = np.array([[1,0,0],[0,1,0],[0,0,1]])\n",
    "class1_sample = np.random.multivariate_normal(mu_vec1, cov_mat1, 30).T\n",
    "assert class1_sample.shape == (3,30), \"The matrix has not the dimensions 3x30\"\n",
    "\n",
    "mu_vec2 = np.array([1,1,1])\n",
    "cov_mat2 = np.array([[1,0,0],[0,1,0],[0,0,1]])\n",
    "class2_sample = np.random.multivariate_normal(mu_vec2, cov_mat2, 30).T\n",
    "assert class2_sample.shape == (3,30), \"The matrix has not the dimensions 3x30\""
   ]
  },
  {
   "cell_type": "code",
   "execution_count": 100,
   "metadata": {},
   "outputs": [
    {
     "data": {
      "image/png": "[encoded data removed]",
      "text/plain": [
       "<Figure size 576x576 with 1 Axes>"
      ]
     },
     "metadata": {
      "needs_background": "light"
     },
     "output_type": "display_data"
    }
   ],
   "source": [
    "from matplotlib import pyplot as plt\n",
    "from mpl_toolkits.mplot3d import Axes3D\n",
    "from mpl_toolkits.mplot3d import proj3d\n",
    "\n",
    "fig = plt.figure(figsize=(8,8))\n",
    "ax = fig.add_subplot(111, projection='3d')\n",
    "plt.rcParams['legend.fontsize'] = 10   \n",
    "ax.plot(class1_sample[0,:], class1_sample[1,:], class1_sample[2,:], 'o', markersize=8, color='blue', alpha=0.5, label='class1')\n",
    "ax.plot(class2_sample[0,:], class2_sample[1,:], class2_sample[2,:], '^', markersize=8, alpha=0.5, color='red', label='class2')\n",
    "\n",
    "plt.title('Samples for class 1 and class 2')\n",
    "ax.legend(loc='upper right')\n",
    "\n",
    "plt.show()"
   ]
  },
  {
   "cell_type": "markdown",
   "metadata": {},
   "source": [
    "3-b. PCA Implementation. Here, the descriiption of each step and part of codes. You have to fill out the rest process. [10 pts]"
   ]
  },
  {
   "cell_type": "markdown",
   "metadata": {},
   "source": [
    "    1. Take the dataset w/o classes. "
   ]
  },
  {
   "cell_type": "code",
   "execution_count": 114,
   "metadata": {},
   "outputs": [],
   "source": [
    "all_samples = np.hstack((class1_sample, class2_sample))\n",
    "assert all_samples.shape == (3,60), \"The matrix has not the dimensions 3x60\""
   ]
  },
  {
   "cell_type": "markdown",
   "metadata": {},
   "source": [
    "    2. Compute the d-dimentional mean vector."
   ]
  },
  {
   "cell_type": "code",
   "execution_count": 116,
   "metadata": {},
   "outputs": [
    {
     "name": "stdout",
     "output_type": "stream",
     "text": [
      "Mean Vector:\n",
      " [[0.47343911]\n",
      " [0.52653958]\n",
      " [0.73360656]]\n"
     ]
    }
   ],
   "source": [
    "mean_x = np.mean(all_samples[0,:])\n",
    "mean_y = np.mean(all_samples[1,:])\n",
    "mean_z = np.mean(all_samples[2,:])\n",
    "\n",
    "mean_vector = np.array([[mean_x],[mean_y],[mean_z]])\n",
    "\n",
    "print('Mean Vector:\\n', mean_vector)"
   ]
  },
  {
   "cell_type": "markdown",
   "metadata": {},
   "source": [
    "    3. Compute the scatter matrix as following. \n",
    "$$\\textbf{S}=\\sum_{k=1}^N (\\textbf{x}_k-\\bar{\\textbf{x}})(\\textbf{x}_k-\\bar{\\textbf{x}})^T$$ \n",
    "    where $\\bar{\\textbf{x}}$ is the mean vector."
   ]
  },
  {
   "cell_type": "code",
   "execution_count": 133,
   "metadata": {},
   "outputs": [
    {
     "name": "stdout",
     "output_type": "stream",
     "text": [
      "Scatter Matrix:\n",
      " [[217.37768658 216.3796061  212.48755958]\n",
      " [216.3796061  215.88906445 213.97618171]\n",
      " [212.48755958 213.97618171 219.78111096]]\n"
     ]
    }
   ],
   "source": [
    "scatter_matrix = np.zeros((3,3))\n",
    "for i in range(all_samples.shape[1]):\n",
    "    #all_samples is (3,1) mean_vector is(3,1) scatter_matrix should be (3,3)\n",
    "    scatter_matrix += (all_samples[:,i]-mean_vector).dot((all_samples[:,i] - mean_vector).T)\n",
    "    \n",
    "print('Scatter Matrix:\\n', scatter_matrix)"
   ]
  },
  {
   "cell_type": "markdown",
   "metadata": {},
   "source": [
    "    Then compute the covariance matrix using `np.cov()` function."
   ]
  },
  {
   "cell_type": "code",
   "execution_count": 127,
   "metadata": {},
   "outputs": [
    {
     "name": "stdout",
     "output_type": "stream",
     "text": [
      "Covariance Matrix:\n",
      " [[ 1.12432002  0.27043376  0.15901633]\n",
      " [ 0.27043376  1.23833166 -0.01238244]\n",
      " [ 0.15901633 -0.01238244  1.25001409]]\n"
     ]
    }
   ],
   "source": [
    "cov_mat = np.cov(all_samples)\n",
    "print('Covariance Matrix:\\n', cov_mat)"
   ]
  },
  {
   "cell_type": "markdown",
   "metadata": {},
   "source": [
    "    4. Compute eigenvectors and corresponding eigenvalues using np.linalg.eig(). "
   ]
  },
  {
   "cell_type": "code",
   "execution_count": 135,
   "metadata": {},
   "outputs": [
    {
     "name": "stdout",
     "output_type": "stream",
     "text": [
      "Eigenvector 1: \n",
      "[[-0.57735027]\n",
      " [-0.57735027]\n",
      " [-0.57735027]]\n",
      "Eigenvalue 1 from scatter matrix: 646.2448522534614\n",
      "Eigenvalue 1 from covariance matrix: 0.8592333131868222\n",
      "Scaling factor:  752.1180130418769\n",
      "------------------------------------------------------------\n",
      "Eigenvector 2: \n",
      "[[-0.6149445 ]\n",
      " [ 0.77264151]\n",
      " [-0.15769701]]\n",
      "Eigenvalue 2 from scatter matrix: -4.725892883219026e-14\n",
      "Eigenvalue 2 from covariance matrix: 1.495600366782271\n",
      "Scaling factor:  -3.159863415510261e-14\n",
      "------------------------------------------------------------\n",
      "Eigenvector 3: \n",
      "[[-0.5371312 ]\n",
      " [-0.26399196]\n",
      " [ 0.80112316]]\n",
      "Eigenvalue 3 from scatter matrix: 6.803009733643127\n",
      "Eigenvalue 3 from covariance matrix: 1.2578320969790298\n",
      "Scaling factor:  5.408519745983669\n",
      "------------------------------------------------------------\n"
     ]
    }
   ],
   "source": [
    "# eigenvectors and eigenvalues for the from the scatter matrix\n",
    "eig_val_sc, eig_vec_sc = np.linalg.eig(scatter_matrix)\n",
    "\n",
    "# eigenvectors and eigenvalues for the from the covariance matrix\n",
    "eig_val_cov, eig_vec_cov = np.linalg.eig(cov_mat)\n",
    "\n",
    "for i in range(len(eig_val_sc)):\n",
    "    eigvec_sc = eig_vec_sc[:,i].reshape(1,3).T\n",
    "    eigvec_cov = eig_vec_cov[:,i].reshape(1,3).T\n",
    "    assert eigvec_sc.all() == eigvec_cov.all(), 'Eigenvectors are not identical'\n",
    "\n",
    "    print('Eigenvector {}: \\n{}'.format(i+1, eigvec_sc))\n",
    "    print('Eigenvalue {} from scatter matrix: {}'.format(i+1, eig_val_sc[i]))\n",
    "    print('Eigenvalue {} from covariance matrix: {}'.format(i+1, eig_val_cov[i]))\n",
    "    print('Scaling factor: ', eig_val_sc[i]/eig_val_cov[i])\n",
    "    print(60 * '-')"
   ]
  },
  {
   "cell_type": "markdown",
   "metadata": {},
   "source": [
    "    5. Check the eigenvector and eigenvalue calculation. This code is provided as well as the visualization of eigenvectors. "
   ]
  },
  {
   "cell_type": "code",
   "execution_count": 136,
   "metadata": {},
   "outputs": [],
   "source": [
    "for i in range(len(eig_val_sc)):\n",
    "    eigv = eig_vec_sc[:,i].reshape(1,3).T\n",
    "    np.testing.assert_array_almost_equal(scatter_matrix.dot(eigv), eig_val_sc[i] * eigv,\n",
    "                                         decimal=6, err_msg='', verbose=True)"
   ]
  },
  {
   "cell_type": "code",
   "execution_count": 137,
   "metadata": {},
   "outputs": [
    {
     "data": {
      "image/png": "[encoded data removed]",
      "text/plain": [
       "<Figure size 504x504 with 1 Axes>"
      ]
     },
     "metadata": {
      "needs_background": "light"
     },
     "output_type": "display_data"
    }
   ],
   "source": [
    "from matplotlib.patches import FancyArrowPatch\n",
    "\n",
    "\n",
    "class Arrow3D(FancyArrowPatch):\n",
    "    def __init__(self, xs, ys, zs, *args, **kwargs):\n",
    "        FancyArrowPatch.__init__(self, (0,0), (0,0), *args, **kwargs)\n",
    "        self._verts3d = xs, ys, zs\n",
    "\n",
    "    def draw(self, renderer):\n",
    "        xs3d, ys3d, zs3d = self._verts3d\n",
    "        xs, ys, zs = proj3d.proj_transform(xs3d, ys3d, zs3d, renderer.M)\n",
    "        self.set_positions((xs[0],ys[0]),(xs[1],ys[1]))\n",
    "        FancyArrowPatch.draw(self, renderer)\n",
    "\n",
    "fig = plt.figure(figsize=(7,7))\n",
    "ax = fig.add_subplot(111, projection='3d')\n",
    "\n",
    "ax.plot(all_samples[0,:], all_samples[1,:], all_samples[2,:], 'o', markersize=8, color='green', alpha=0.2)\n",
    "ax.plot([mean_x], [mean_y], [mean_z], 'o', markersize=10, color='red', alpha=0.5)\n",
    "for v in eig_vec_sc.T:\n",
    "    a = Arrow3D([mean_x, v[0]], [mean_y, v[1]], [mean_z, v[2]], mutation_scale=20, lw=3, arrowstyle=\"-|>\", color=\"r\")\n",
    "    ax.add_artist(a)\n",
    "ax.set_xlabel('x_values')\n",
    "ax.set_ylabel('y_values')\n",
    "ax.set_zlabel('z_values')\n",
    "\n",
    "plt.title('Eigenvectors')\n",
    "\n",
    "plt.show()"
   ]
  },
  {
   "cell_type": "markdown",
   "metadata": {},
   "source": [
    "    6. Sort the eigenvectors by descreasing eigenvalues. \n",
    "\n",
    "    The idea is that since the eigenvectors will form the axes of new feature subspace, we want to drop for eigenvectors with the lowest eigenvalues that bear the least information about the distribution of the data. "
   ]
  },
  {
   "cell_type": "code",
   "execution_count": 140,
   "metadata": {},
   "outputs": [
    {
     "name": "stdout",
     "output_type": "stream",
     "text": [
      "646.2448522534614\n",
      "6.803009733643127\n",
      "4.725892883219026e-14\n"
     ]
    }
   ],
   "source": [
    "# Make a list of (eigenvalue, eigenvector) tuples\n",
    "eig_pairs = [(np.abs(eig_val_sc[i]), eig_vec_sc[:,i]) for i in range(len(eig_val_sc))]\n",
    "\n",
    "# Sort the (eigenvalue, eigenvector) tuples from high to low\n",
    "eig_pairs.sort(reverse=True)\n",
    "\n",
    "# Visually confirm that the list is correctly sorted by decreasing eigenvalues\n",
    "for i in eig_pairs:\n",
    "    print(i[0])"
   ]
  },
  {
   "cell_type": "markdown",
   "metadata": {},
   "source": [
    "   7. Choose *k* eigenvectors with the largest eigenvalues.\n",
    "\n",
    "    We are going to reduce a 3-D feature space to a 2-D feature subspace. To do so, we combine the two eigenvectors with the highest eigenvalues to construct our $d\\times k$-D eigenvector matrix $\\bf{W}$."
   ]
  },
  {
   "cell_type": "code",
   "execution_count": 179,
   "metadata": {},
   "outputs": [
    {
     "data": {
      "text/plain": [
       "(3,)"
      ]
     },
     "execution_count": 179,
     "metadata": {},
     "output_type": "execute_result"
    }
   ],
   "source": [
    "eig_pairs[0][1].shape"
   ]
  },
  {
   "cell_type": "code",
   "execution_count": 149,
   "metadata": {},
   "outputs": [
    {
     "name": "stdout",
     "output_type": "stream",
     "text": [
      "Matrix W:\n",
      " [[-0.57735027 -0.57735027 -0.57735027]\n",
      " [-0.5371312  -0.26399196  0.80112316]]\n"
     ]
    }
   ],
   "source": [
    "matrix_w = np.vstack((eig_pairs[0][1], eig_pairs[1][1]))\n",
    "print('Matrix W:\\n', matrix_w)"
   ]
  },
  {
   "cell_type": "markdown",
   "metadata": {},
   "source": [
    "    8. Transform the samples onto the new subspace. \n",
    "\n",
    "    The new subspace equation is \n",
    "\n",
    "$${\\bf y}={\\bf W}^T\\times {\\bf x}$$"
   ]
  },
  {
   "cell_type": "code",
   "execution_count": 176,
   "metadata": {},
   "outputs": [
    {
     "data": {
      "text/plain": [
       "(2, 3)"
      ]
     },
     "execution_count": 176,
     "metadata": {},
     "output_type": "execute_result"
    }
   ],
   "source": [
    "matrix_w.shape"
   ]
  },
  {
   "cell_type": "code",
   "execution_count": 161,
   "metadata": {},
   "outputs": [],
   "source": [
    "transformed = matrix_w.dot(all_samples)\n",
    "assert transformed.shape == (2,60), \"The matrix is not 2x60 dimensional.\""
   ]
  },
  {
   "cell_type": "code",
   "execution_count": 162,
   "metadata": {},
   "outputs": [
    {
     "data": {
      "image/png": "[encoded data removed]",
      "text/plain": [
       "<Figure size 432x288 with 1 Axes>"
      ]
     },
     "metadata": {
      "needs_background": "light"
     },
     "output_type": "display_data"
    }
   ],
   "source": [
    "plt.plot(transformed[0,0:30], transformed[1,0:30], 'o', markersize=7, color='blue', alpha=0.5, label='class1')\n",
    "plt.plot(transformed[0,30:60], transformed[1,30:60], '^', markersize=7, color='red', alpha=0.5, label='class2')\n",
    "plt.xlim([-5,5])\n",
    "plt.ylim([-5,5])\n",
    "plt.xlabel('x_values')\n",
    "plt.ylabel('y_values')\n",
    "plt.legend()\n",
    "plt.title('Transformed samples with class labels')\n",
    "\n",
    "plt.show()"
   ]
  },
  {
   "cell_type": "markdown",
   "metadata": {},
   "source": [
    "3-c. Using `PCA` from sklearn, make a visualization comparison with the result in 3-b and evaluation your impletemented PCA. [5 pts]"
   ]
  },
  {
   "cell_type": "code",
   "execution_count": 163,
   "metadata": {},
   "outputs": [],
   "source": [
    "from sklearn.decomposition import PCA"
   ]
  },
  {
   "cell_type": "code",
   "execution_count": 164,
   "metadata": {},
   "outputs": [
    {
     "data": {
      "text/plain": [
       "PCA(copy=True, iterated_power='auto', n_components=2, random_state=None,\n",
       "    svd_solver='auto', tol=0.0, whiten=False)"
      ]
     },
     "execution_count": 164,
     "metadata": {},
     "output_type": "execute_result"
    }
   ],
   "source": [
    "pca = PCA()\n",
    "pca.set_params(n_components=2)"
   ]
  },
  {
   "cell_type": "code",
   "execution_count": 177,
   "metadata": {},
   "outputs": [
    {
     "data": {
      "text/plain": [
       "array([[-1.49086251,  5.72736844],\n",
       "       [-5.30359424, -3.92237362],\n",
       "       [ 6.79445676, -1.80499482]])"
      ]
     },
     "execution_count": 177,
     "metadata": {},
     "output_type": "execute_result"
    }
   ],
   "source": [
    "pComponents= pca.fit_transform(all_samples)\n",
    "pComponents"
   ]
  },
  {
   "cell_type": "code",
   "execution_count": 174,
   "metadata": {},
   "outputs": [],
   "source": [
    "transformed = pComponents.T.dot(all_samples)"
   ]
  },
  {
   "cell_type": "code",
   "execution_count": 170,
   "metadata": {},
   "outputs": [],
   "source": [
    "pcaDF = pd.DataFrame(data = pComponents, columns=['Principal Component1', 'Principal Component2'])"
   ]
  },
  {
   "cell_type": "code",
   "execution_count": 171,
   "metadata": {},
   "outputs": [
    {
     "data": {
      "text/html": [
       "<div>\n",
       "<style scoped>\n",
       "    .dataframe tbody tr th:only-of-type {\n",
       "        vertical-align: middle;\n",
       "    }\n",
       "\n",
       "    .dataframe tbody tr th {\n",
       "        vertical-align: top;\n",
       "    }\n",
       "\n",
       "    .dataframe thead th {\n",
       "        text-align: right;\n",
       "    }\n",
       "</style>\n",
       "<table border=\"1\" class=\"dataframe\">\n",
       "  <thead>\n",
       "    <tr style=\"text-align: right;\">\n",
       "      <th></th>\n",
       "      <th>Principal Component1</th>\n",
       "      <th>Principal Component2</th>\n",
       "    </tr>\n",
       "  </thead>\n",
       "  <tbody>\n",
       "    <tr>\n",
       "      <th>0</th>\n",
       "      <td>-1.490863</td>\n",
       "      <td>5.727368</td>\n",
       "    </tr>\n",
       "    <tr>\n",
       "      <th>1</th>\n",
       "      <td>-5.303594</td>\n",
       "      <td>-3.922374</td>\n",
       "    </tr>\n",
       "    <tr>\n",
       "      <th>2</th>\n",
       "      <td>6.794457</td>\n",
       "      <td>-1.804995</td>\n",
       "    </tr>\n",
       "  </tbody>\n",
       "</table>\n",
       "</div>"
      ],
      "text/plain": [
       "   Principal Component1  Principal Component2\n",
       "0             -1.490863              5.727368\n",
       "1             -5.303594             -3.922374\n",
       "2              6.794457             -1.804995"
      ]
     },
     "execution_count": 171,
     "metadata": {},
     "output_type": "execute_result"
    }
   ],
   "source": [
    "pcaDF"
   ]
  },
  {
   "cell_type": "code",
   "execution_count": 167,
   "metadata": {},
   "outputs": [
    {
     "data": {
      "text/plain": [
       "array([0.59795804, 0.40204196])"
      ]
     },
     "execution_count": 167,
     "metadata": {},
     "output_type": "execute_result"
    }
   ],
   "source": [
    "#Principal Component1 explaines 59.7 percent of the data and principal component 2 explains 40.2% of the data.\n",
    "pca.explained_variance_ratio_"
   ]
  },
  {
   "cell_type": "code",
   "execution_count": 182,
   "metadata": {},
   "outputs": [
    {
     "data": {
      "image/png": "[encoded data removed]",
      "text/plain": [
       "<Figure size 432x288 with 1 Axes>"
      ]
     },
     "metadata": {
      "needs_background": "light"
     },
     "output_type": "display_data"
    }
   ],
   "source": [
    "plt.plot(transformed[0,0:30], transformed[1,0:30], 'o', markersize=7, color='blue', alpha=0.5, label='class1')\n",
    "plt.plot(transformed[0,30:60], transformed[1,30:60], '^', markersize=7, color='red', alpha=0.5, label='class2')\n",
    "plt.xlim([-5,5])\n",
    "plt.ylim([-5,5])\n",
    "plt.xlabel('x_values')\n",
    "plt.ylabel('y_values')\n",
    "plt.legend()\n",
    "plt.title('My_PCA Anlysis Transformed Data')\n",
    "\n",
    "plt.show()"
   ]
  },
  {
   "cell_type": "code",
   "execution_count": null,
   "metadata": {},
   "outputs": [],
   "source": [
    "#When using the SKlean PCA analysis compared to the implementation in part 3-b we get very different results for the visualization\n",
    "#and thus the eigenvectors and eigenvalues"
   ]
  }
 ],
 "metadata": {
  "kernelspec": {
   "display_name": "Python 3",
   "language": "python",
   "name": "python3"
  },
  "language_info": {
   "codemirror_mode": {
    "name": "ipython",
    "version": 3
   },
   "file_extension": ".py",
   "mimetype": "text/x-python",
   "name": "python",
   "nbconvert_exporter": "python",
   "pygments_lexer": "ipython3",
   "version": "3.8.0"
  }
 },
 "nbformat": 4,
 "nbformat_minor": 5
}
