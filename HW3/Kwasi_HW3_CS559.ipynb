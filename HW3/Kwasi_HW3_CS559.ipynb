{
 "cells": [
  {
   "cell_type": "code",
   "execution_count": 1,
   "metadata": {},
   "outputs": [],
   "source": [
    "import pandas as pd\n",
    "import numpy as np\n",
    "import matplotlib.pyplot as plt\n",
    "from sklearn import svm\n",
    "from sklearn.gaussian_process import GaussianProcessRegressor\n",
    "from sklearn.gaussian_process.kernels import RBF, ConstantKernel as C\n",
    "from collections import Counter\n",
    "import math\n",
    "from sklearn.preprocessing import LabelEncoder\n",
    "from sklearn.model_selection import train_test_split\n",
    "import numpy.matlib\n",
    "from sklearn.tree import DecisionTreeClassifier"
   ]
  },
  {
   "cell_type": "code",
   "execution_count": 2,
   "metadata": {},
   "outputs": [],
   "source": [
    "############Question3#############"
   ]
  },
  {
   "cell_type": "code",
   "execution_count": 3,
   "metadata": {},
   "outputs": [],
   "source": [
    "#Create data frame\n",
    "\n",
    "data = np.array([[4,2.9,1,0.414],\n",
    "                [4,4,1,0],\n",
    "                [1,2.5,-1,0],\n",
    "                [2.5,1,-1,0.018],\n",
    "                [4.9,4.5,1,0],\n",
    "                [1.9,1.9,-1,0],\n",
    "                [3.5,4,1,0.018],\n",
    "                [0.5,1.5,-1,0],\n",
    "                [2,2.1,-1,0.414],\n",
    "                [4.5,2.5,1,0]])\n",
    "\n",
    "columns = ['Xi1','Xi2','yi','ai']\n",
    "\n",
    "\n",
    "\n",
    "\n",
    "\n",
    "\n"
   ]
  },
  {
   "cell_type": "code",
   "execution_count": 4,
   "metadata": {},
   "outputs": [
    {
     "data": {
      "text/plain": [
       "(10, 4)"
      ]
     },
     "execution_count": 4,
     "metadata": {},
     "output_type": "execute_result"
    }
   ],
   "source": [
    "data.shape"
   ]
  },
  {
   "cell_type": "code",
   "execution_count": 5,
   "metadata": {},
   "outputs": [],
   "source": [
    "df = pd.DataFrame(data,columns=columns)"
   ]
  },
  {
   "cell_type": "code",
   "execution_count": 6,
   "metadata": {},
   "outputs": [
    {
     "data": {
      "text/html": [
       "<div>\n",
       "<style scoped>\n",
       "    .dataframe tbody tr th:only-of-type {\n",
       "        vertical-align: middle;\n",
       "    }\n",
       "\n",
       "    .dataframe tbody tr th {\n",
       "        vertical-align: top;\n",
       "    }\n",
       "\n",
       "    .dataframe thead th {\n",
       "        text-align: right;\n",
       "    }\n",
       "</style>\n",
       "<table border=\"1\" class=\"dataframe\">\n",
       "  <thead>\n",
       "    <tr style=\"text-align: right;\">\n",
       "      <th></th>\n",
       "      <th>Xi1</th>\n",
       "      <th>Xi2</th>\n",
       "      <th>yi</th>\n",
       "      <th>ai</th>\n",
       "    </tr>\n",
       "  </thead>\n",
       "  <tbody>\n",
       "    <tr>\n",
       "      <th>0</th>\n",
       "      <td>4.0</td>\n",
       "      <td>2.9</td>\n",
       "      <td>1.0</td>\n",
       "      <td>0.414</td>\n",
       "    </tr>\n",
       "    <tr>\n",
       "      <th>1</th>\n",
       "      <td>4.0</td>\n",
       "      <td>4.0</td>\n",
       "      <td>1.0</td>\n",
       "      <td>0.000</td>\n",
       "    </tr>\n",
       "    <tr>\n",
       "      <th>2</th>\n",
       "      <td>1.0</td>\n",
       "      <td>2.5</td>\n",
       "      <td>-1.0</td>\n",
       "      <td>0.000</td>\n",
       "    </tr>\n",
       "    <tr>\n",
       "      <th>3</th>\n",
       "      <td>2.5</td>\n",
       "      <td>1.0</td>\n",
       "      <td>-1.0</td>\n",
       "      <td>0.018</td>\n",
       "    </tr>\n",
       "    <tr>\n",
       "      <th>4</th>\n",
       "      <td>4.9</td>\n",
       "      <td>4.5</td>\n",
       "      <td>1.0</td>\n",
       "      <td>0.000</td>\n",
       "    </tr>\n",
       "  </tbody>\n",
       "</table>\n",
       "</div>"
      ],
      "text/plain": [
       "   Xi1  Xi2   yi     ai\n",
       "0  4.0  2.9  1.0  0.414\n",
       "1  4.0  4.0  1.0  0.000\n",
       "2  1.0  2.5 -1.0  0.000\n",
       "3  2.5  1.0 -1.0  0.018\n",
       "4  4.9  4.5  1.0  0.000"
      ]
     },
     "execution_count": 6,
     "metadata": {},
     "output_type": "execute_result"
    }
   ],
   "source": [
    "df.head()"
   ]
  },
  {
   "cell_type": "code",
   "execution_count": 7,
   "metadata": {},
   "outputs": [],
   "source": [
    "#split data into x and y\n",
    "dfX = df.iloc[:,:2]\n",
    "dfy= df.iloc[:,2]"
   ]
  },
  {
   "cell_type": "code",
   "execution_count": 8,
   "metadata": {},
   "outputs": [
    {
     "data": {
      "text/plain": [
       "0    1.0\n",
       "1    1.0\n",
       "2   -1.0\n",
       "3   -1.0\n",
       "4    1.0\n",
       "Name: yi, dtype: float64"
      ]
     },
     "execution_count": 8,
     "metadata": {},
     "output_type": "execute_result"
    }
   ],
   "source": [
    "dfy.head()\n"
   ]
  },
  {
   "cell_type": "code",
   "execution_count": 9,
   "metadata": {},
   "outputs": [
    {
     "data": {
      "text/plain": [
       "SVC(C=100000.0, cache_size=200, class_weight=None, coef0=0.0,\n",
       "    decision_function_shape='ovr', degree=1, gamma='auto_deprecated',\n",
       "    kernel='linear', max_iter=-1, probability=False, random_state=None,\n",
       "    shrinking=True, tol=0.001, verbose=False)"
      ]
     },
     "execution_count": 9,
     "metadata": {},
     "output_type": "execute_result"
    }
   ],
   "source": [
    "#setup svm\n",
    "svm_model = svm.SVC(kernel='linear', C=1e5, degree=1)\n",
    "svm_model\n"
   ]
  },
  {
   "cell_type": "code",
   "execution_count": 10,
   "metadata": {},
   "outputs": [
    {
     "data": {
      "text/plain": [
       "SVC(C=100000.0, cache_size=200, class_weight=None, coef0=0.0,\n",
       "    decision_function_shape='ovr', degree=1, gamma='auto_deprecated',\n",
       "    kernel='linear', max_iter=-1, probability=False, random_state=None,\n",
       "    shrinking=True, tol=0.001, verbose=False)"
      ]
     },
     "execution_count": 10,
     "metadata": {},
     "output_type": "execute_result"
    }
   ],
   "source": [
    "#fit the data\n",
    "svm_model.fit(dfX,dfy)"
   ]
  },
  {
   "cell_type": "code",
   "execution_count": 11,
   "metadata": {},
   "outputs": [
    {
     "data": {
      "text/plain": [
       "1.0"
      ]
     },
     "execution_count": 11,
     "metadata": {},
     "output_type": "execute_result"
    }
   ],
   "source": [
    "#see score \n",
    "svm_model.score(dfX,dfy)"
   ]
  },
  {
   "cell_type": "code",
   "execution_count": 12,
   "metadata": {},
   "outputs": [
    {
     "data": {
      "text/plain": [
       "array([2, 1])"
      ]
     },
     "execution_count": 12,
     "metadata": {},
     "output_type": "execute_result"
    }
   ],
   "source": [
    "#return the number of suppor vectors \n",
    "\n",
    "svm_model.n_support_"
   ]
  },
  {
   "cell_type": "code",
   "execution_count": 13,
   "metadata": {},
   "outputs": [
    {
     "data": {
      "text/plain": [
       "array([3, 8, 0])"
      ]
     },
     "execution_count": 13,
     "metadata": {},
     "output_type": "execute_result"
    }
   ],
   "source": [
    "#find index of support vectors\n",
    "svm_index = svm_model.support_\n",
    "svm_index"
   ]
  },
  {
   "cell_type": "code",
   "execution_count": 14,
   "metadata": {},
   "outputs": [
    {
     "data": {
      "text/plain": [
       "array([[2.5, 1. ],\n",
       "       [2. , 2.1],\n",
       "       [4. , 2.9]])"
      ]
     },
     "execution_count": 14,
     "metadata": {},
     "output_type": "execute_result"
    }
   ],
   "source": [
    "#Find value of the support vectors\n",
    "support = svm_model.support_vectors_\n",
    "support"
   ]
  },
  {
   "cell_type": "code",
   "execution_count": 15,
   "metadata": {},
   "outputs": [
    {
     "data": {
      "text/plain": [
       "array([[0.03615281, 0.3956072 , 0.43176   ]])"
      ]
     },
     "execution_count": 15,
     "metadata": {},
     "output_type": "execute_result"
    }
   ],
   "source": [
    "#find the Lagragian multiplier x label in array\n",
    "alpha = np.abs(svm_model.dual_coef_)\n",
    "alpha"
   ]
  },
  {
   "cell_type": "code",
   "execution_count": 16,
   "metadata": {},
   "outputs": [
    {
     "data": {
      "text/plain": [
       "array([[0.84544361, 0.38517609]])"
      ]
     },
     "execution_count": 16,
     "metadata": {},
     "output_type": "execute_result"
    }
   ],
   "source": [
    "#find class weightrs\n",
    "weights =  svm_model.coef_\n",
    "weights"
   ]
  },
  {
   "cell_type": "code",
   "execution_count": 17,
   "metadata": {},
   "outputs": [
    {
     "data": {
      "text/plain": [
       "array([-3.49910903])"
      ]
     },
     "execution_count": 17,
     "metadata": {},
     "output_type": "execute_result"
    }
   ],
   "source": [
    "intercept = svm_model.intercept_\n",
    "intercept"
   ]
  },
  {
   "cell_type": "code",
   "execution_count": 18,
   "metadata": {},
   "outputs": [
    {
     "data": {
      "text/plain": [
       "array([0.99967606])"
      ]
     },
     "execution_count": 18,
     "metadata": {},
     "output_type": "execute_result"
    }
   ],
   "source": [
    "#linear svm equation wT x+b\n",
    "lin = weights.dot(dfX.iloc[0])+intercept\n",
    "lin"
   ]
  },
  {
   "cell_type": "code",
   "execution_count": 19,
   "metadata": {},
   "outputs": [],
   "source": [
    "def plot_model(model, x, y, label):   \n",
    "    '''\n",
    "    model: a fitted model\n",
    "    x, y: two variables, should arrays\n",
    "    label: true label\n",
    "    '''\n",
    "    margin = 0.5\n",
    "    x_min = x.min() - margin\n",
    "    x_max = x.max() + margin\n",
    "    y_min = y.min() - margin\n",
    "    y_max = y.max() + margin\n",
    "    import  matplotlib.pyplot as plt\n",
    "    from matplotlib import colors\n",
    "    col_dict = {\n",
    "        'red': [(0, 1, 1), (1, 0.7, 0.7)],\n",
    "        'green': [(0, 1, 0.5), (1, 0.7, 0.7)],\n",
    "        'blue': [(0, 1, 0.5), (1, 1, 1)]\n",
    "    }\n",
    "    cmap = colors.LinearSegmentedColormap('red_blue_classes', col_dict)\n",
    "    plt.cm.register_cmap(cmap=cmap)\n",
    "    nx, ny = 200, 200\n",
    "    xx, yy = np.meshgrid(\n",
    "        np.linspace(x_min, x_max, nx),\n",
    "        np.linspace(y_min, y_max, ny)\n",
    "    )\n",
    "    Z = model.predict(np.c_[xx.ravel(), yy.ravel()])\n",
    "    Z = Z.reshape(xx.shape)\n",
    "    ## plot colormap\n",
    "    plt.pcolormesh(xx, yy, Z, cmap='red_blue_classes')\n",
    "    ## plot boundaries\n",
    "    plt.contour(xx, yy, Z, [0.5], linewidths=1., colors='k')\n",
    "    plt.contour(xx, yy, Z, [1], linewidths=1., colors='k')\n",
    "    ## plot scatters and true labels\n",
    "    plt.scatter(x, y, c=label, edgecolors='k')\n",
    "    plt.xlim(x_min, x_max)\n",
    "    plt.ylim(y_min, y_max)\n",
    "    ## if it's a SVM model\n",
    "    if hasattr(model, 'support_'):\n",
    "        # if it's a SVC, plot the support vectors\n",
    "        index = model.support_\n",
    "        plt.scatter(x[index], y[index], c=label[index], s=200, alpha=0.33, edgecolors='k')"
   ]
  },
  {
   "cell_type": "code",
   "execution_count": 20,
   "metadata": {},
   "outputs": [
    {
     "name": "stderr",
     "output_type": "stream",
     "text": [
      "<ipython-input-19-3518eeaba0ad>:32: UserWarning: No contour levels were found within the data range.\n",
      "  plt.contour(xx, yy, Z, [1], linewidths=1., colors='k')\n"
     ]
    },
    {
     "data": {
      "image/png": "[encoded data removed]",
      "text/plain": [
       "<Figure size 432x288 with 1 Axes>"
      ]
     },
     "metadata": {
      "needs_background": "light"
     },
     "output_type": "display_data"
    }
   ],
   "source": [
    "#plt.scatter(dfX.iloc[:,0], dfX.iloc[:,1])\n",
    "plot_model(svm_model,dfX.iloc[:, 0], dfX.iloc[:,1],dfy)\n",
    "plt.xlabel('Xi1')\n",
    "plt.xlabel('Xi2')\n",
    "plt.show()"
   ]
  },
  {
   "cell_type": "code",
   "execution_count": 21,
   "metadata": {},
   "outputs": [
    {
     "data": {
      "text/html": [
       "<h3> Question 1 </h3>\n"
      ],
      "text/plain": [
       "<IPython.core.display.HTML object>"
      ]
     },
     "metadata": {},
     "output_type": "display_data"
    }
   ],
   "source": [
    "%%HTML\n",
    "<h3> Question 1 </h3>"
   ]
  },
  {
   "cell_type": "code",
   "execution_count": 22,
   "metadata": {},
   "outputs": [],
   "source": [
    "#Question 1 what is the equation of the hyper plane h(x)\n",
    "#Plot it\n",
    "\n",
    "#The equation of the hyperplane is the line equation W.T.X+ b =0\n"
   ]
  },
  {
   "cell_type": "code",
   "execution_count": 23,
   "metadata": {},
   "outputs": [],
   "source": [
    "#Question b What is the distance of x6 from the hyper plane\n",
    "#the distance between a point and the hyperplane is given by\n",
    "# dist = W.T.X +b / ||w||\n",
    "#hyper2 = weights.T.dot(dfX)+intercept\n",
    "hyper = svm_model.decision_function(dfX)\n",
    "w_norm = np.linalg.norm(weights)"
   ]
  },
  {
   "cell_type": "code",
   "execution_count": 24,
   "metadata": {},
   "outputs": [
    {
     "data": {
      "text/plain": [
       "(10,)"
      ]
     },
     "execution_count": 24,
     "metadata": {},
     "output_type": "execute_result"
    }
   ],
   "source": [
    "hyper.shape"
   ]
  },
  {
   "cell_type": "code",
   "execution_count": 25,
   "metadata": {},
   "outputs": [],
   "source": [
    "dist = hyper/w_norm"
   ]
  },
  {
   "cell_type": "code",
   "execution_count": 26,
   "metadata": {},
   "outputs": [
    {
     "data": {
      "text/plain": [
       "(10,)"
      ]
     },
     "execution_count": 26,
     "metadata": {},
     "output_type": "execute_result"
    }
   ],
   "source": [
    "dist.shape"
   ]
  },
  {
   "cell_type": "code",
   "execution_count": 27,
   "metadata": {},
   "outputs": [
    {
     "data": {
      "text/plain": [
       "-1.249588850480849"
      ]
     },
     "execution_count": 27,
     "metadata": {},
     "output_type": "execute_result"
    }
   ],
   "source": [
    "#Distance for X6 os -1.24 and this is beyond the margin of the classifier\n",
    "dist[5]"
   ]
  },
  {
   "cell_type": "code",
   "execution_count": 28,
   "metadata": {},
   "outputs": [
    {
     "data": {
      "text/plain": [
       "(1, 2)"
      ]
     },
     "execution_count": 28,
     "metadata": {},
     "output_type": "execute_result"
    }
   ],
   "source": [
    "#Classify new point z = (3,3)\n",
    "test_data = np.array([[3,3]])\n",
    "columns = ['Xi1','XI2']\n",
    "test_data.shape"
   ]
  },
  {
   "cell_type": "code",
   "execution_count": 29,
   "metadata": {},
   "outputs": [],
   "source": [
    "dfx_test = pd.DataFrame(data=test_data,columns=columns)"
   ]
  },
  {
   "cell_type": "code",
   "execution_count": 30,
   "metadata": {},
   "outputs": [
    {
     "data": {
      "text/plain": [
       "array([1.])"
      ]
     },
     "execution_count": 30,
     "metadata": {},
     "output_type": "execute_result"
    }
   ],
   "source": [
    "#predict class of test data\n",
    "svm_model.predict(dfx_test)"
   ]
  },
  {
   "cell_type": "code",
   "execution_count": 31,
   "metadata": {},
   "outputs": [],
   "source": [
    "#Test Data belongs to class 1"
   ]
  },
  {
   "cell_type": "code",
   "execution_count": 32,
   "metadata": {},
   "outputs": [
    {
     "data": {
      "text/html": [
       "<h3> Gaussian Process </h3>\n"
      ],
      "text/plain": [
       "<IPython.core.display.HTML object>"
      ]
     },
     "metadata": {},
     "output_type": "display_data"
    }
   ],
   "source": [
    "%%html\n",
    "<h3> Gaussian Process </h3>"
   ]
  },
  {
   "cell_type": "code",
   "execution_count": 33,
   "metadata": {},
   "outputs": [],
   "source": [
    "########Gaussian Process ##########\n",
    "#y = f(x) + e\n",
    "#f = GP(0,k)\n",
    "#e = N(0, sigma^2)\n",
    "#k(x,x') = exp(-1/2(x-x')^2)\n"
   ]
  },
  {
   "cell_type": "code",
   "execution_count": 34,
   "metadata": {},
   "outputs": [],
   "source": [
    "###Questions\n",
    "#What is X and X'?\n",
    "#what is the sample size?"
   ]
  },
  {
   "cell_type": "code",
   "execution_count": 35,
   "metadata": {},
   "outputs": [],
   "source": [
    "#define x\n",
    "x = dfX.iloc[0]\n",
    "x_p = dfX.iloc[1]"
   ]
  },
  {
   "cell_type": "code",
   "execution_count": 36,
   "metadata": {},
   "outputs": [],
   "source": [
    "#define e \n",
    "mu = 0\n",
    "sigma = 1\n",
    "#sigma is covariance matrix\n",
    "\n",
    "e = np.random.normal(0)"
   ]
  },
  {
   "cell_type": "code",
   "execution_count": 37,
   "metadata": {},
   "outputs": [],
   "source": [
    "kernel = np.exp((1/2)*((x-x_p)**2))\n"
   ]
  },
  {
   "cell_type": "code",
   "execution_count": 38,
   "metadata": {},
   "outputs": [],
   "source": [
    "\n",
    "#make function to predict \n",
    "\n",
    "def f(x):\n",
    "    return"
   ]
  },
  {
   "cell_type": "code",
   "execution_count": 39,
   "metadata": {},
   "outputs": [
    {
     "data": {
      "text/html": [
       "<h3> Decision Tree </h3>\n"
      ],
      "text/plain": [
       "<IPython.core.display.HTML object>"
      ]
     },
     "metadata": {},
     "output_type": "display_data"
    }
   ],
   "source": [
    "%%HTML\n",
    "<h3> Decision Tree </h3>"
   ]
  },
  {
   "cell_type": "code",
   "execution_count": 40,
   "metadata": {},
   "outputs": [],
   "source": [
    "#######decision Tree#######"
   ]
  },
  {
   "cell_type": "code",
   "execution_count": 41,
   "metadata": {},
   "outputs": [],
   "source": [
    "data = 'auto-mpg.data'\n",
    "columns = ['mpg', 'cylinders', 'displacement', 'horsepower', 'weight', 'acceleration', 'year', 'origin', 'name']\n",
    "dfauto = pd.read_csv(data, delim_whitespace=True, names =columns)"
   ]
  },
  {
   "cell_type": "code",
   "execution_count": 42,
   "metadata": {},
   "outputs": [
    {
     "data": {
      "text/html": [
       "<div>\n",
       "<style scoped>\n",
       "    .dataframe tbody tr th:only-of-type {\n",
       "        vertical-align: middle;\n",
       "    }\n",
       "\n",
       "    .dataframe tbody tr th {\n",
       "        vertical-align: top;\n",
       "    }\n",
       "\n",
       "    .dataframe thead th {\n",
       "        text-align: right;\n",
       "    }\n",
       "</style>\n",
       "<table border=\"1\" class=\"dataframe\">\n",
       "  <thead>\n",
       "    <tr style=\"text-align: right;\">\n",
       "      <th></th>\n",
       "      <th>mpg</th>\n",
       "      <th>cylinders</th>\n",
       "      <th>displacement</th>\n",
       "      <th>horsepower</th>\n",
       "      <th>weight</th>\n",
       "      <th>acceleration</th>\n",
       "      <th>year</th>\n",
       "      <th>origin</th>\n",
       "      <th>name</th>\n",
       "    </tr>\n",
       "  </thead>\n",
       "  <tbody>\n",
       "    <tr>\n",
       "      <th>0</th>\n",
       "      <td>18.0</td>\n",
       "      <td>8</td>\n",
       "      <td>307.0</td>\n",
       "      <td>130.0</td>\n",
       "      <td>3504.0</td>\n",
       "      <td>12.0</td>\n",
       "      <td>70</td>\n",
       "      <td>1</td>\n",
       "      <td>chevrolet chevelle malibu</td>\n",
       "    </tr>\n",
       "    <tr>\n",
       "      <th>1</th>\n",
       "      <td>15.0</td>\n",
       "      <td>8</td>\n",
       "      <td>350.0</td>\n",
       "      <td>165.0</td>\n",
       "      <td>3693.0</td>\n",
       "      <td>11.5</td>\n",
       "      <td>70</td>\n",
       "      <td>1</td>\n",
       "      <td>buick skylark 320</td>\n",
       "    </tr>\n",
       "    <tr>\n",
       "      <th>2</th>\n",
       "      <td>18.0</td>\n",
       "      <td>8</td>\n",
       "      <td>318.0</td>\n",
       "      <td>150.0</td>\n",
       "      <td>3436.0</td>\n",
       "      <td>11.0</td>\n",
       "      <td>70</td>\n",
       "      <td>1</td>\n",
       "      <td>plymouth satellite</td>\n",
       "    </tr>\n",
       "    <tr>\n",
       "      <th>3</th>\n",
       "      <td>16.0</td>\n",
       "      <td>8</td>\n",
       "      <td>304.0</td>\n",
       "      <td>150.0</td>\n",
       "      <td>3433.0</td>\n",
       "      <td>12.0</td>\n",
       "      <td>70</td>\n",
       "      <td>1</td>\n",
       "      <td>amc rebel sst</td>\n",
       "    </tr>\n",
       "    <tr>\n",
       "      <th>4</th>\n",
       "      <td>17.0</td>\n",
       "      <td>8</td>\n",
       "      <td>302.0</td>\n",
       "      <td>140.0</td>\n",
       "      <td>3449.0</td>\n",
       "      <td>10.5</td>\n",
       "      <td>70</td>\n",
       "      <td>1</td>\n",
       "      <td>ford torino</td>\n",
       "    </tr>\n",
       "  </tbody>\n",
       "</table>\n",
       "</div>"
      ],
      "text/plain": [
       "    mpg  cylinders  displacement horsepower  weight  acceleration  year  \\\n",
       "0  18.0          8         307.0      130.0  3504.0          12.0    70   \n",
       "1  15.0          8         350.0      165.0  3693.0          11.5    70   \n",
       "2  18.0          8         318.0      150.0  3436.0          11.0    70   \n",
       "3  16.0          8         304.0      150.0  3433.0          12.0    70   \n",
       "4  17.0          8         302.0      140.0  3449.0          10.5    70   \n",
       "\n",
       "   origin                       name  \n",
       "0       1  chevrolet chevelle malibu  \n",
       "1       1          buick skylark 320  \n",
       "2       1         plymouth satellite  \n",
       "3       1              amc rebel sst  \n",
       "4       1                ford torino  "
      ]
     },
     "execution_count": 42,
     "metadata": {},
     "output_type": "execute_result"
    }
   ],
   "source": [
    "dfauto.head()"
   ]
  },
  {
   "cell_type": "code",
   "execution_count": 43,
   "metadata": {},
   "outputs": [
    {
     "data": {
      "text/plain": [
       "mpg             0\n",
       "cylinders       0\n",
       "displacement    0\n",
       "horsepower      0\n",
       "weight          0\n",
       "acceleration    0\n",
       "year            0\n",
       "origin          0\n",
       "name            0\n",
       "dtype: int64"
      ]
     },
     "execution_count": 43,
     "metadata": {},
     "output_type": "execute_result"
    }
   ],
   "source": [
    "#check dfauto for missing values\n",
    "dfauto.isna().sum()"
   ]
  },
  {
   "cell_type": "code",
   "execution_count": 44,
   "metadata": {},
   "outputs": [
    {
     "data": {
      "text/plain": [
       "mpg             float64\n",
       "cylinders         int64\n",
       "displacement    float64\n",
       "horsepower       object\n",
       "weight          float64\n",
       "acceleration    float64\n",
       "year              int64\n",
       "origin            int64\n",
       "name             object\n",
       "dtype: object"
      ]
     },
     "execution_count": 44,
     "metadata": {},
     "output_type": "execute_result"
    }
   ],
   "source": [
    "#check types for columns \n",
    "dfauto.dtypes"
   ]
  },
  {
   "cell_type": "code",
   "execution_count": 45,
   "metadata": {},
   "outputs": [
    {
     "data": {
      "text/plain": [
       "mpg             float64\n",
       "cylinders         int64\n",
       "displacement    float64\n",
       "horsepower       object\n",
       "weight          float64\n",
       "acceleration    float64\n",
       "year              int64\n",
       "origin            int64\n",
       "name             object\n",
       "dtype: object"
      ]
     },
     "execution_count": 45,
     "metadata": {},
     "output_type": "execute_result"
    }
   ],
   "source": [
    "#check types for columns \n",
    "dfauto.dtypes"
   ]
  },
  {
   "cell_type": "code",
   "execution_count": 46,
   "metadata": {},
   "outputs": [
    {
     "data": {
      "text/plain": [
       "mpg             0\n",
       "cylinders       0\n",
       "displacement    0\n",
       "horsepower      0\n",
       "weight          0\n",
       "acceleration    0\n",
       "year            0\n",
       "origin          0\n",
       "name            0\n",
       "dtype: int64"
      ]
     },
     "execution_count": 46,
     "metadata": {},
     "output_type": "execute_result"
    }
   ],
   "source": [
    "#check dfauto for missing values\n",
    "dfauto.isna().sum()"
   ]
  },
  {
   "cell_type": "code",
   "execution_count": 47,
   "metadata": {},
   "outputs": [
    {
     "data": {
      "text/plain": [
       "array(['130.0', '165.0', '150.0', '140.0', '198.0', '220.0', '215.0',\n",
       "       '225.0', '190.0', '170.0', '160.0', '95.00', '97.00', '85.00',\n",
       "       '88.00', '46.00', '87.00', '90.00', '113.0', '200.0', '210.0',\n",
       "       '193.0', '?', '100.0', '105.0', '175.0', '153.0', '180.0', '110.0',\n",
       "       '72.00', '86.00', '70.00', '76.00', '65.00', '69.00', '60.00',\n",
       "       '80.00', '54.00', '208.0', '155.0', '112.0', '92.00', '145.0',\n",
       "       '137.0', '158.0', '167.0', '94.00', '107.0', '230.0', '49.00',\n",
       "       '75.00', '91.00', '122.0', '67.00', '83.00', '78.00', '52.00',\n",
       "       '61.00', '93.00', '148.0', '129.0', '96.00', '71.00', '98.00',\n",
       "       '115.0', '53.00', '81.00', '79.00', '120.0', '152.0', '102.0',\n",
       "       '108.0', '68.00', '58.00', '149.0', '89.00', '63.00', '48.00',\n",
       "       '66.00', '139.0', '103.0', '125.0', '133.0', '138.0', '135.0',\n",
       "       '142.0', '77.00', '62.00', '132.0', '84.00', '64.00', '74.00',\n",
       "       '116.0', '82.00'], dtype=object)"
      ]
     },
     "execution_count": 47,
     "metadata": {},
     "output_type": "execute_result"
    }
   ],
   "source": [
    "#Horsepower has one NAN value as ?. replace it with np.NAN\n",
    "dfauto['horsepower'].unique()"
   ]
  },
  {
   "cell_type": "code",
   "execution_count": 48,
   "metadata": {},
   "outputs": [],
   "source": [
    "#np.mean(dfauto['horsepower'])"
   ]
  },
  {
   "cell_type": "code",
   "execution_count": 49,
   "metadata": {},
   "outputs": [],
   "source": [
    "#replace ? with np.nan\n",
    "dfauto['horsepower'].replace('?',np.nan, inplace=True)"
   ]
  },
  {
   "cell_type": "code",
   "execution_count": 50,
   "metadata": {},
   "outputs": [],
   "source": [
    "#Horsepower is an obect and should be a float 64\n",
    "#dfauto['horsepower'] = dfauto['horsepower'].astype('float64')"
   ]
  },
  {
   "cell_type": "code",
   "execution_count": 51,
   "metadata": {},
   "outputs": [],
   "source": [
    "#change types of df auto\n",
    "dfauto['mpg'] =dfauto['mpg'].astype('float64')\n",
    "dfauto['cylinders'] = dfauto['cylinders'].astype('int64')\n",
    "dfauto['displacement'] = dfauto['displacement'].astype('float64')\n",
    "dfauto['horsepower'] = dfauto['horsepower'].astype('float64')\n",
    "dfauto['weight'] = dfauto['weight'].astype('float64')\n",
    "dfauto['acceleration'] = dfauto['acceleration'].astype('float64')\n",
    "dfauto['year'] = dfauto['year'].astype('int64')\n",
    "dfauto['origin'] = dfauto['origin'].astype('int64')"
   ]
  },
  {
   "cell_type": "code",
   "execution_count": 52,
   "metadata": {},
   "outputs": [],
   "source": [
    "#replace nann with npmean\n",
    "dfauto['horsepower'].replace(np.nan, np.mean(dfauto['horsepower']), inplace=True)"
   ]
  },
  {
   "cell_type": "code",
   "execution_count": 53,
   "metadata": {},
   "outputs": [],
   "source": [
    "#dfauto[dfauto['horsepower'] == '?']"
   ]
  },
  {
   "cell_type": "code",
   "execution_count": null,
   "metadata": {},
   "outputs": [],
   "source": []
  },
  {
   "cell_type": "code",
   "execution_count": 54,
   "metadata": {},
   "outputs": [
    {
     "data": {
      "text/plain": [
       "array([130.        , 165.        , 150.        , 140.        ,\n",
       "       198.        , 220.        , 215.        , 225.        ,\n",
       "       190.        , 170.        , 160.        ,  95.        ,\n",
       "        97.        ,  85.        ,  88.        ,  46.        ,\n",
       "        87.        ,  90.        , 113.        , 200.        ,\n",
       "       210.        , 193.        , 104.46938776, 100.        ,\n",
       "       105.        , 175.        , 153.        , 180.        ,\n",
       "       110.        ,  72.        ,  86.        ,  70.        ,\n",
       "        76.        ,  65.        ,  69.        ,  60.        ,\n",
       "        80.        ,  54.        , 208.        , 155.        ,\n",
       "       112.        ,  92.        , 145.        , 137.        ,\n",
       "       158.        , 167.        ,  94.        , 107.        ,\n",
       "       230.        ,  49.        ,  75.        ,  91.        ,\n",
       "       122.        ,  67.        ,  83.        ,  78.        ,\n",
       "        52.        ,  61.        ,  93.        , 148.        ,\n",
       "       129.        ,  96.        ,  71.        ,  98.        ,\n",
       "       115.        ,  53.        ,  81.        ,  79.        ,\n",
       "       120.        , 152.        , 102.        , 108.        ,\n",
       "        68.        ,  58.        , 149.        ,  89.        ,\n",
       "        63.        ,  48.        ,  66.        , 139.        ,\n",
       "       103.        , 125.        , 133.        , 138.        ,\n",
       "       135.        , 142.        ,  77.        ,  62.        ,\n",
       "       132.        ,  84.        ,  64.        ,  74.        ,\n",
       "       116.        ,  82.        ])"
      ]
     },
     "execution_count": 54,
     "metadata": {},
     "output_type": "execute_result"
    }
   ],
   "source": [
    "#check to see that ? was correctly replaced\n",
    "dfauto['horsepower'].unique()"
   ]
  },
  {
   "cell_type": "code",
   "execution_count": 55,
   "metadata": {},
   "outputs": [
    {
     "data": {
      "text/plain": [
       "mpg             float64\n",
       "cylinders         int64\n",
       "displacement    float64\n",
       "horsepower      float64\n",
       "weight          float64\n",
       "acceleration    float64\n",
       "year              int64\n",
       "origin            int64\n",
       "name             object\n",
       "dtype: object"
      ]
     },
     "execution_count": 55,
     "metadata": {},
     "output_type": "execute_result"
    }
   ],
   "source": [
    "#Check that horsepower has been changed to float 64\n",
    "dfauto.dtypes"
   ]
  },
  {
   "cell_type": "code",
   "execution_count": 56,
   "metadata": {},
   "outputs": [
    {
     "data": {
      "text/plain": [
       "mpg             0\n",
       "cylinders       0\n",
       "displacement    0\n",
       "horsepower      0\n",
       "weight          0\n",
       "acceleration    0\n",
       "year            0\n",
       "origin          0\n",
       "name            0\n",
       "dtype: int64"
      ]
     },
     "execution_count": 56,
     "metadata": {},
     "output_type": "execute_result"
    }
   ],
   "source": [
    "dfauto.isna().sum()"
   ]
  },
  {
   "cell_type": "code",
   "execution_count": null,
   "metadata": {},
   "outputs": [],
   "source": []
  },
  {
   "cell_type": "code",
   "execution_count": 57,
   "metadata": {},
   "outputs": [
    {
     "data": {
      "text/plain": [
       "array([[<matplotlib.axes._subplots.AxesSubplot object at 0x000001490388F910>,\n",
       "        <matplotlib.axes._subplots.AxesSubplot object at 0x0000014905B49820>,\n",
       "        <matplotlib.axes._subplots.AxesSubplot object at 0x0000014905B72D30>],\n",
       "       [<matplotlib.axes._subplots.AxesSubplot object at 0x0000014905BA35B0>,\n",
       "        <matplotlib.axes._subplots.AxesSubplot object at 0x0000014905BCCDF0>,\n",
       "        <matplotlib.axes._subplots.AxesSubplot object at 0x0000014905C006A0>],\n",
       "       [<matplotlib.axes._subplots.AxesSubplot object at 0x0000014905C0F5B0>,\n",
       "        <matplotlib.axes._subplots.AxesSubplot object at 0x0000014905C36E80>,\n",
       "        <matplotlib.axes._subplots.AxesSubplot object at 0x0000014905C95DC0>]],\n",
       "      dtype=object)"
      ]
     },
     "execution_count": 57,
     "metadata": {},
     "output_type": "execute_result"
    },
    {
     "data": {
      "image/png": "[encoded data removed]",
      "text/plain": [
       "<Figure size 432x288 with 9 Axes>"
      ]
     },
     "metadata": {
      "needs_background": "light"
     },
     "output_type": "display_data"
    }
   ],
   "source": [
    "#plot distribution of features\n",
    "dfauto.hist()"
   ]
  },
  {
   "cell_type": "code",
   "execution_count": 58,
   "metadata": {},
   "outputs": [
    {
     "data": {
      "text/plain": [
       "array([1, 3, 2], dtype=int64)"
      ]
     },
     "execution_count": 58,
     "metadata": {},
     "output_type": "execute_result"
    }
   ],
   "source": [
    "#Origin can be changed from  1, 2, 3, to America, Eurpoe, Asia\n",
    "dfauto['origin'].unique()"
   ]
  },
  {
   "cell_type": "code",
   "execution_count": 59,
   "metadata": {},
   "outputs": [],
   "source": [
    "#change values of origin\n",
    "# dfauto['origin'].replace(1,'America',inplace=True)\n",
    "# dfauto['origin'].replace(2,'Europe', inplace=True)\n",
    "# dfauto['origin'].replace(3,'Asia', inplace=True)"
   ]
  },
  {
   "cell_type": "code",
   "execution_count": 60,
   "metadata": {},
   "outputs": [],
   "source": [
    "#Confirm values of origin\n",
    "# dfauto['origin'].unique()"
   ]
  },
  {
   "cell_type": "code",
   "execution_count": 61,
   "metadata": {},
   "outputs": [
    {
     "data": {
      "text/plain": [
       "27.8"
      ]
     },
     "execution_count": 61,
     "metadata": {},
     "output_type": "execute_result"
    }
   ],
   "source": [
    "#Change MPG to a cutoff where above is good and below is bad\n",
    "mpg_cut = (dfauto['mpg'].max() + dfauto['mpg'].min())/2\n",
    "mpg_cut"
   ]
  },
  {
   "cell_type": "code",
   "execution_count": 62,
   "metadata": {},
   "outputs": [],
   "source": [
    "# change values of mpg\n",
    "dfauto['mpg'] = pd.cut(dfauto.mpg, bins=[dfauto.mpg.min()-1,mpg_cut,dfauto.mpg.max()], labels=[0,1])"
   ]
  },
  {
   "cell_type": "code",
   "execution_count": 63,
   "metadata": {},
   "outputs": [
    {
     "data": {
      "text/plain": [
       "[0, 1]\n",
       "Categories (2, int64): [0 < 1]"
      ]
     },
     "execution_count": 63,
     "metadata": {},
     "output_type": "execute_result"
    }
   ],
   "source": [
    "#confirm values on mpg\n",
    "dfauto['mpg'].unique()"
   ]
  },
  {
   "cell_type": "code",
   "execution_count": 64,
   "metadata": {},
   "outputs": [],
   "source": [
    "#make a cut off for dipslacement accelration, weight, and horspower\n",
    "def value_cut(data,feature):\n",
    "    for feat in feature:\n",
    "        feat_max=data[feat].max()\n",
    "        feat_min=data[feat].min()\n",
    "        feat_cut1=(feat_max+feat_min)/3\n",
    "        data[feat]=pd.cut(dfauto[feat],bins=[feat_min,feat_cut1,feat_cut1*2,feat_max],labels=[0,1,2])\n",
    "        print(feat,\":\",feat_min,feat_cut1,2*feat_cut1,feat_max)\n",
    "        \n",
    "    return data"
   ]
  },
  {
   "cell_type": "code",
   "execution_count": 65,
   "metadata": {},
   "outputs": [
    {
     "name": "stdout",
     "output_type": "stream",
     "text": [
      "displacement : 68.0 174.33333333333334 348.6666666666667 455.0\n",
      "acceleration : 8.0 10.933333333333332 21.866666666666664 24.8\n",
      "weight : 1613.0 2251.0 4502.0 5140.0\n",
      "horsepower : 46.0 92.0 184.0 230.0\n"
     ]
    },
    {
     "data": {
      "text/html": [
       "<div>\n",
       "<style scoped>\n",
       "    .dataframe tbody tr th:only-of-type {\n",
       "        vertical-align: middle;\n",
       "    }\n",
       "\n",
       "    .dataframe tbody tr th {\n",
       "        vertical-align: top;\n",
       "    }\n",
       "\n",
       "    .dataframe thead th {\n",
       "        text-align: right;\n",
       "    }\n",
       "</style>\n",
       "<table border=\"1\" class=\"dataframe\">\n",
       "  <thead>\n",
       "    <tr style=\"text-align: right;\">\n",
       "      <th></th>\n",
       "      <th>mpg</th>\n",
       "      <th>cylinders</th>\n",
       "      <th>displacement</th>\n",
       "      <th>horsepower</th>\n",
       "      <th>weight</th>\n",
       "      <th>acceleration</th>\n",
       "      <th>year</th>\n",
       "      <th>origin</th>\n",
       "      <th>name</th>\n",
       "    </tr>\n",
       "  </thead>\n",
       "  <tbody>\n",
       "    <tr>\n",
       "      <th>0</th>\n",
       "      <td>0</td>\n",
       "      <td>8</td>\n",
       "      <td>1</td>\n",
       "      <td>1</td>\n",
       "      <td>1</td>\n",
       "      <td>1</td>\n",
       "      <td>70</td>\n",
       "      <td>1</td>\n",
       "      <td>chevrolet chevelle malibu</td>\n",
       "    </tr>\n",
       "    <tr>\n",
       "      <th>1</th>\n",
       "      <td>0</td>\n",
       "      <td>8</td>\n",
       "      <td>2</td>\n",
       "      <td>1</td>\n",
       "      <td>1</td>\n",
       "      <td>1</td>\n",
       "      <td>70</td>\n",
       "      <td>1</td>\n",
       "      <td>buick skylark 320</td>\n",
       "    </tr>\n",
       "    <tr>\n",
       "      <th>2</th>\n",
       "      <td>0</td>\n",
       "      <td>8</td>\n",
       "      <td>1</td>\n",
       "      <td>1</td>\n",
       "      <td>1</td>\n",
       "      <td>1</td>\n",
       "      <td>70</td>\n",
       "      <td>1</td>\n",
       "      <td>plymouth satellite</td>\n",
       "    </tr>\n",
       "    <tr>\n",
       "      <th>3</th>\n",
       "      <td>0</td>\n",
       "      <td>8</td>\n",
       "      <td>1</td>\n",
       "      <td>1</td>\n",
       "      <td>1</td>\n",
       "      <td>1</td>\n",
       "      <td>70</td>\n",
       "      <td>1</td>\n",
       "      <td>amc rebel sst</td>\n",
       "    </tr>\n",
       "    <tr>\n",
       "      <th>4</th>\n",
       "      <td>0</td>\n",
       "      <td>8</td>\n",
       "      <td>1</td>\n",
       "      <td>1</td>\n",
       "      <td>1</td>\n",
       "      <td>0</td>\n",
       "      <td>70</td>\n",
       "      <td>1</td>\n",
       "      <td>ford torino</td>\n",
       "    </tr>\n",
       "    <tr>\n",
       "      <th>...</th>\n",
       "      <td>...</td>\n",
       "      <td>...</td>\n",
       "      <td>...</td>\n",
       "      <td>...</td>\n",
       "      <td>...</td>\n",
       "      <td>...</td>\n",
       "      <td>...</td>\n",
       "      <td>...</td>\n",
       "      <td>...</td>\n",
       "    </tr>\n",
       "    <tr>\n",
       "      <th>393</th>\n",
       "      <td>0</td>\n",
       "      <td>4</td>\n",
       "      <td>0</td>\n",
       "      <td>0</td>\n",
       "      <td>1</td>\n",
       "      <td>1</td>\n",
       "      <td>82</td>\n",
       "      <td>1</td>\n",
       "      <td>ford mustang gl</td>\n",
       "    </tr>\n",
       "    <tr>\n",
       "      <th>394</th>\n",
       "      <td>1</td>\n",
       "      <td>4</td>\n",
       "      <td>0</td>\n",
       "      <td>0</td>\n",
       "      <td>0</td>\n",
       "      <td>2</td>\n",
       "      <td>82</td>\n",
       "      <td>2</td>\n",
       "      <td>vw pickup</td>\n",
       "    </tr>\n",
       "    <tr>\n",
       "      <th>395</th>\n",
       "      <td>1</td>\n",
       "      <td>4</td>\n",
       "      <td>0</td>\n",
       "      <td>0</td>\n",
       "      <td>1</td>\n",
       "      <td>1</td>\n",
       "      <td>82</td>\n",
       "      <td>1</td>\n",
       "      <td>dodge rampage</td>\n",
       "    </tr>\n",
       "    <tr>\n",
       "      <th>396</th>\n",
       "      <td>1</td>\n",
       "      <td>4</td>\n",
       "      <td>0</td>\n",
       "      <td>0</td>\n",
       "      <td>1</td>\n",
       "      <td>1</td>\n",
       "      <td>82</td>\n",
       "      <td>1</td>\n",
       "      <td>ford ranger</td>\n",
       "    </tr>\n",
       "    <tr>\n",
       "      <th>397</th>\n",
       "      <td>1</td>\n",
       "      <td>4</td>\n",
       "      <td>0</td>\n",
       "      <td>0</td>\n",
       "      <td>1</td>\n",
       "      <td>1</td>\n",
       "      <td>82</td>\n",
       "      <td>1</td>\n",
       "      <td>chevy s-10</td>\n",
       "    </tr>\n",
       "  </tbody>\n",
       "</table>\n",
       "<p>398 rows × 9 columns</p>\n",
       "</div>"
      ],
      "text/plain": [
       "    mpg  cylinders displacement horsepower weight acceleration  year  origin  \\\n",
       "0     0          8            1          1      1            1    70       1   \n",
       "1     0          8            2          1      1            1    70       1   \n",
       "2     0          8            1          1      1            1    70       1   \n",
       "3     0          8            1          1      1            1    70       1   \n",
       "4     0          8            1          1      1            0    70       1   \n",
       "..   ..        ...          ...        ...    ...          ...   ...     ...   \n",
       "393   0          4            0          0      1            1    82       1   \n",
       "394   1          4            0          0      0            2    82       2   \n",
       "395   1          4            0          0      1            1    82       1   \n",
       "396   1          4            0          0      1            1    82       1   \n",
       "397   1          4            0          0      1            1    82       1   \n",
       "\n",
       "                          name  \n",
       "0    chevrolet chevelle malibu  \n",
       "1            buick skylark 320  \n",
       "2           plymouth satellite  \n",
       "3                amc rebel sst  \n",
       "4                  ford torino  \n",
       "..                         ...  \n",
       "393            ford mustang gl  \n",
       "394                  vw pickup  \n",
       "395              dodge rampage  \n",
       "396                ford ranger  \n",
       "397                 chevy s-10  \n",
       "\n",
       "[398 rows x 9 columns]"
      ]
     },
     "execution_count": 65,
     "metadata": {},
     "output_type": "execute_result"
    }
   ],
   "source": [
    "value_cut(dfauto, ['displacement', 'acceleration', 'weight', 'horsepower'])"
   ]
  },
  {
   "cell_type": "code",
   "execution_count": 66,
   "metadata": {},
   "outputs": [
    {
     "data": {
      "text/plain": [
       "array([70, 71, 72, 73, 74, 75, 76, 77, 78, 79, 80, 81, 82], dtype=int64)"
      ]
     },
     "execution_count": 66,
     "metadata": {},
     "output_type": "execute_result"
    }
   ],
   "source": [
    "dfauto['year'].unique()"
   ]
  },
  {
   "cell_type": "code",
   "execution_count": 67,
   "metadata": {},
   "outputs": [
    {
     "name": "stdout",
     "output_type": "stream",
     "text": [
      "70 82 3.0\n",
      "[69, 74, 78, 82]\n"
     ]
    }
   ],
   "source": [
    "#chage values for year\n",
    "yearmin=dfauto.year.min()\n",
    "yearmax=dfauto.year.max()\n",
    "x=(yearmax-yearmin)/4\n",
    "print(yearmin,yearmax,x)\n",
    "yearlist=[yearmin-1,yearmin+4,yearmin+8,yearmax]\n",
    "print(yearlist)"
   ]
  },
  {
   "cell_type": "code",
   "execution_count": 68,
   "metadata": {},
   "outputs": [],
   "source": [
    "dfauto['year'] = pd.cut(dfauto.year, bins=yearlist, labels=[0,1,2])"
   ]
  },
  {
   "cell_type": "code",
   "execution_count": 69,
   "metadata": {},
   "outputs": [
    {
     "data": {
      "text/plain": [
       "[0, 1, 2]\n",
       "Categories (3, int64): [0 < 1 < 2]"
      ]
     },
     "execution_count": 69,
     "metadata": {},
     "output_type": "execute_result"
    }
   ],
   "source": [
    "#check values for year\n",
    "dfauto['year'].unique()"
   ]
  },
  {
   "cell_type": "code",
   "execution_count": 70,
   "metadata": {},
   "outputs": [
    {
     "data": {
      "text/plain": [
       "mpg             category\n",
       "cylinders          int64\n",
       "displacement    category\n",
       "horsepower      category\n",
       "weight          category\n",
       "acceleration    category\n",
       "year            category\n",
       "origin             int64\n",
       "name              object\n",
       "dtype: object"
      ]
     },
     "execution_count": 70,
     "metadata": {},
     "output_type": "execute_result"
    }
   ],
   "source": [
    "dfauto.dtypes"
   ]
  },
  {
   "cell_type": "code",
   "execution_count": 71,
   "metadata": {},
   "outputs": [
    {
     "data": {
      "text/plain": [
       "mpg             0\n",
       "cylinders       0\n",
       "displacement    1\n",
       "horsepower      2\n",
       "weight          1\n",
       "acceleration    1\n",
       "year            0\n",
       "origin          0\n",
       "name            0\n",
       "dtype: int64"
      ]
     },
     "execution_count": 71,
     "metadata": {},
     "output_type": "execute_result"
    }
   ],
   "source": [
    "dfauto.isna().sum()"
   ]
  },
  {
   "cell_type": "code",
   "execution_count": 72,
   "metadata": {},
   "outputs": [],
   "source": [
    "dfauto.dropna(0, inplace=True)"
   ]
  },
  {
   "cell_type": "code",
   "execution_count": 73,
   "metadata": {},
   "outputs": [
    {
     "data": {
      "text/plain": [
       "mpg             0\n",
       "cylinders       0\n",
       "displacement    0\n",
       "horsepower      0\n",
       "weight          0\n",
       "acceleration    0\n",
       "year            0\n",
       "origin          0\n",
       "name            0\n",
       "dtype: int64"
      ]
     },
     "execution_count": 73,
     "metadata": {},
     "output_type": "execute_result"
    }
   ],
   "source": [
    "dfauto.isna().sum()"
   ]
  },
  {
   "cell_type": "code",
   "execution_count": 74,
   "metadata": {},
   "outputs": [],
   "source": [
    "#change origin from categotical to numeric\n"
   ]
  },
  {
   "cell_type": "code",
   "execution_count": 75,
   "metadata": {},
   "outputs": [],
   "source": [
    "#Split into X and Y\n",
    "dfautoX = dfauto.iloc[:,:8]\n",
    "dfautoY = dfauto.iloc[:,8]"
   ]
  },
  {
   "cell_type": "code",
   "execution_count": 76,
   "metadata": {},
   "outputs": [],
   "source": [
    "#train test split\n",
    "xTr, xTe, yTr,yTe = train_test_split(dfautoX,dfautoY, test_size=0.3)"
   ]
  },
  {
   "cell_type": "code",
   "execution_count": 77,
   "metadata": {},
   "outputs": [],
   "source": [
    "#calculate Gini index to determine how to split first\n",
    "\n",
    "def informationGained(L, metric='gini'):\n",
    "    total = len(L)\n",
    "    freq = map(lambda x: float(x) / total, list(Counter(L).values()))\n",
    "    if metric == 'gini':\n",
    "        scores = map(lambda x: x * (1 - x), freq)\n",
    "    elif metric == 'entropy':\n",
    "        scores = map(lambda x: -x * math.log(x, 2), freq)\n",
    "    return sum(scores)"
   ]
  },
  {
   "cell_type": "code",
   "execution_count": 78,
   "metadata": {},
   "outputs": [
    {
     "name": "stdout",
     "output_type": "stream",
     "text": [
      "mpg 0.41815745003204946\n",
      "cylinders 0.6278059424146482\n",
      "displacement 0.5755556850481389\n",
      "horsepower 0.5403337023871958\n",
      "weight 0.4413366224449495\n",
      "acceleration 0.08844343440229457\n",
      "year 0.66385667760879\n",
      "origin 0.5333281536300009\n",
      "name 0.9955130819882282\n"
     ]
    }
   ],
   "source": [
    "for i in dfauto.columns:\n",
    "    L = list(dfauto[i])\n",
    "    print(i, informationGained(L))"
   ]
  },
  {
   "cell_type": "code",
   "execution_count": 79,
   "metadata": {},
   "outputs": [
    {
     "data": {
      "text/html": [
       "<div>\n",
       "<style scoped>\n",
       "    .dataframe tbody tr th:only-of-type {\n",
       "        vertical-align: middle;\n",
       "    }\n",
       "\n",
       "    .dataframe tbody tr th {\n",
       "        vertical-align: top;\n",
       "    }\n",
       "\n",
       "    .dataframe thead th {\n",
       "        text-align: right;\n",
       "    }\n",
       "</style>\n",
       "<table border=\"1\" class=\"dataframe\">\n",
       "  <thead>\n",
       "    <tr style=\"text-align: right;\">\n",
       "      <th></th>\n",
       "      <th></th>\n",
       "      <th>cylinders</th>\n",
       "      <th>displacement</th>\n",
       "      <th>horsepower</th>\n",
       "      <th>weight</th>\n",
       "      <th>acceleration</th>\n",
       "      <th>origin</th>\n",
       "      <th>name</th>\n",
       "    </tr>\n",
       "    <tr>\n",
       "      <th>year</th>\n",
       "      <th>mpg</th>\n",
       "      <th></th>\n",
       "      <th></th>\n",
       "      <th></th>\n",
       "      <th></th>\n",
       "      <th></th>\n",
       "      <th></th>\n",
       "      <th></th>\n",
       "    </tr>\n",
       "  </thead>\n",
       "  <tbody>\n",
       "    <tr>\n",
       "      <th rowspan=\"2\" valign=\"top\">0</th>\n",
       "      <th>0</th>\n",
       "      <td>133</td>\n",
       "      <td>133</td>\n",
       "      <td>133</td>\n",
       "      <td>133</td>\n",
       "      <td>133</td>\n",
       "      <td>133</td>\n",
       "      <td>133</td>\n",
       "    </tr>\n",
       "    <tr>\n",
       "      <th>1</th>\n",
       "      <td>14</td>\n",
       "      <td>14</td>\n",
       "      <td>14</td>\n",
       "      <td>14</td>\n",
       "      <td>14</td>\n",
       "      <td>14</td>\n",
       "      <td>14</td>\n",
       "    </tr>\n",
       "    <tr>\n",
       "      <th rowspan=\"2\" valign=\"top\">1</th>\n",
       "      <th>0</th>\n",
       "      <td>100</td>\n",
       "      <td>100</td>\n",
       "      <td>100</td>\n",
       "      <td>100</td>\n",
       "      <td>100</td>\n",
       "      <td>100</td>\n",
       "      <td>100</td>\n",
       "    </tr>\n",
       "    <tr>\n",
       "      <th>1</th>\n",
       "      <td>28</td>\n",
       "      <td>28</td>\n",
       "      <td>28</td>\n",
       "      <td>28</td>\n",
       "      <td>28</td>\n",
       "      <td>28</td>\n",
       "      <td>28</td>\n",
       "    </tr>\n",
       "    <tr>\n",
       "      <th rowspan=\"2\" valign=\"top\">2</th>\n",
       "      <th>0</th>\n",
       "      <td>43</td>\n",
       "      <td>43</td>\n",
       "      <td>43</td>\n",
       "      <td>43</td>\n",
       "      <td>43</td>\n",
       "      <td>43</td>\n",
       "      <td>43</td>\n",
       "    </tr>\n",
       "    <tr>\n",
       "      <th>1</th>\n",
       "      <td>75</td>\n",
       "      <td>75</td>\n",
       "      <td>75</td>\n",
       "      <td>75</td>\n",
       "      <td>75</td>\n",
       "      <td>75</td>\n",
       "      <td>75</td>\n",
       "    </tr>\n",
       "  </tbody>\n",
       "</table>\n",
       "</div>"
      ],
      "text/plain": [
       "          cylinders  displacement  horsepower  weight  acceleration  origin  \\\n",
       "year mpg                                                                      \n",
       "0    0          133           133         133     133           133     133   \n",
       "     1           14            14          14      14            14      14   \n",
       "1    0          100           100         100     100           100     100   \n",
       "     1           28            28          28      28            28      28   \n",
       "2    0           43            43          43      43            43      43   \n",
       "     1           75            75          75      75            75      75   \n",
       "\n",
       "          name  \n",
       "year mpg        \n",
       "0    0     133  \n",
       "     1      14  \n",
       "1    0     100  \n",
       "     1      28  \n",
       "2    0      43  \n",
       "     1      75  "
      ]
     },
     "execution_count": 79,
     "metadata": {},
     "output_type": "execute_result"
    }
   ],
   "source": [
    "#we can see that year has the highest informationgained and we will split on this first\n",
    "dfauto.groupby(['year','mpg']).count()"
   ]
  },
  {
   "cell_type": "code",
   "execution_count": 80,
   "metadata": {},
   "outputs": [],
   "source": [
    "#implement IGsplit\n",
    "\n",
    "#function to split the data based on IG\n",
    "def IGsplit(xTr, yTr):\n",
    "    N,D = xTr.shape\n",
    "    assert D > 0 # must have at least one dimension\n",
    "    assert N > 1 # must have at least two samples\n",
    "    \n",
    "    bestloss = np.inf\n",
    "    feature = np.inf\n",
    "    cut = np.inf\n",
    "    \n",
    "    # YOUR CODE HERE\n",
    "    #xTr = np.argsort(xTr, 0)\n",
    "    for i in range(D):\n",
    "        xTrindex = xTr[:,i].argsort()\n",
    "        yTrsort = yTr[xTrindex] #yTr.argsort()\n",
    "        xTrsort = xTr[xTrindex, i]\n",
    "        #for y in xTrsort:\n",
    "        for y in range(N-1):\n",
    "        #for y in range(xTr.shape[0]):\n",
    "            if xTrsort[y] != xTrsort[y+1]:\n",
    "                yTrL = yTrsort[:y+1]   #yTr[:np.where(xTr[xTrsort,i] ==y)[0][0]]\n",
    "\n",
    "                yTrR = yTrsort[y+1:] #yTr[np.where(xTr[xTrsort,i] ==y)[0][0]:]\n",
    "                loss = imformationGained(yTrL)+informationGained(yTrR)\n",
    "                if loss < bestloss:\n",
    "                    bestloss = loss \n",
    "                    cut = (xTrsort[y]+xTrsort[y+1])/2\n",
    "                    feature = i\n",
    "        #N, = yTrL.shape\n",
    "    #print('shape', N)\n",
    "   # print('feature: ', feature)\n",
    "   # print('cut:', cut)\n",
    "   # print('bestloss: ', bestloss)\n",
    "    #return None \n",
    "    \n",
    "    \n",
    "    \n",
    "    return feature, cut, bestloss\n",
    "    "
   ]
  },
  {
   "cell_type": "code",
   "execution_count": 81,
   "metadata": {},
   "outputs": [],
   "source": [
    "#implement IGsplit\n",
    "\n",
    "#function to split the data based on IG\n",
    "def IGsplit(xTr, yTr):\n",
    "    \"\"\"Finds the best feature, cut value, and loss value.\n",
    "    \n",
    "    Input:\n",
    "        xTr:     n x d matrix of data points\n",
    "        yTr:     n-dimensional vector of labels\n",
    "    \n",
    "    Output:\n",
    "        feature:  index of the best cut's feature\n",
    "        cut:      cut-value of the best cut\n",
    "        bestloss: loss of the best cut\n",
    "    \"\"\"\n",
    "    N,D = xTr.shape\n",
    "    assert D > 0 # must have at least one dimension\n",
    "    assert N > 1 # must have at least two samples\n",
    "    #print(\"N\", N)\n",
    "    #print(\"D\", D)\n",
    "    \n",
    "    bestloss = np.inf\n",
    "    feature = np.inf\n",
    "    cut = np.inf\n",
    "    \n",
    "    # YOUR CODE HERE\n",
    "    #xTr = np.argsort(xTr, 0)\n",
    "    for i in range(D):\n",
    "        xTrindex = xTr.iloc[:,i].argsort()\n",
    "        yTrsort = yTr[xTrindex] #yTr.argsort()\n",
    "        \n",
    "       # print(\"index\", xTrindex)\n",
    "        xTrsort = xTr.iloc[xTrindex, i]\n",
    "        xTrsort = xTrsort.reset_index()\n",
    "        xTrsort.drop(['index'], axis =1, inplace=True)\n",
    "        xTrsort = xTrsort.iloc[:,0]\n",
    "        #print(\"shape: \", xTrsort.shape)\n",
    "        #for y in xTrsort:\n",
    "        for y in range(N-1):\n",
    "        #for y in range(xTr.shape[0]):\n",
    "            #print('i', i)\n",
    "            #print(\"y: \", y)\n",
    "           # print(\"xTrsort: \", xTrsort)\n",
    "            #print(\"sort\",xTrsort[y])\n",
    "            if xTrsort[y] != xTrsort[y+1]:\n",
    "                yTrL = yTrsort[:y+1]   #yTr[:np.where(xTr[xTrsort,i] ==y)[0][0]]\n",
    "\n",
    "                yTrR = yTrsort[y+1:] #yTr[np.where(xTr[xTrsort,i] ==y)[0][0]:]\n",
    "                loss = informationGained(yTrL)+informationGained(yTrR)\n",
    "                if loss < bestloss:\n",
    "                    bestloss = loss \n",
    "                    cut = (xTrsort[y]+xTrsort[y+1])/2\n",
    "                    feature = i\n",
    "        #N, = yTrL.shape\n",
    "    #print('shape', N)\n",
    "   # print('feature: ', feature)\n",
    "   # print('cut:', cut)\n",
    "   # print('bestloss: ', bestloss)\n",
    "    #return None \n",
    "    \n",
    "    \n",
    "    \n",
    "    return feature, cut, bestloss\n",
    "    "
   ]
  },
  {
   "cell_type": "code",
   "execution_count": 82,
   "metadata": {},
   "outputs": [
    {
     "name": "stderr",
     "output_type": "stream",
     "text": [
      "c:\\users\\kwaz9\\appdata\\local\\programs\\python\\python38\\lib\\site-packages\\pandas\\core\\series.py:1146: FutureWarning: \n",
      "Passing list-likes to .loc or [] with any missing label will raise\n",
      "KeyError in the future, you can use .reindex() as an alternative.\n",
      "\n",
      "See the documentation here:\n",
      "https://pandas.pydata.org/pandas-docs/stable/user_guide/indexing.html#deprecate-loc-reindex-listlike\n",
      "  return self.loc[key]\n"
     ]
    },
    {
     "data": {
      "text/plain": [
       "(1, 3.5, 1.5554804642445235)"
      ]
     },
     "execution_count": 82,
     "metadata": {},
     "output_type": "execute_result"
    }
   ],
   "source": [
    "#issues when i =3 y =390\n",
    "IGsplit(xTr,yTr)"
   ]
  },
  {
   "cell_type": "code",
   "execution_count": 83,
   "metadata": {},
   "outputs": [],
   "source": [
    "#Create tree class to make decision tree\n",
    "class TreeNode(object):\n",
    "\n",
    "    \n",
    "    def __init__(self, left, right, feature, cut, prediction):\n",
    "        self.left = left \n",
    "        self.right = right \n",
    "        self.feature = feature \n",
    "        self.cut = cut\n",
    "        self.prediction = prediction "
   ]
  },
  {
   "cell_type": "code",
   "execution_count": 84,
   "metadata": {},
   "outputs": [],
   "source": [
    "#create tree walk funciton and cisualize tree\n",
    "def treeWalk(root):\n",
    "    print(\"feat: \", root.feature, \"cut: \", root.cut, \"pred: \",root.prediction)\n",
    "    if root.right==None and root.left ==None:\n",
    "        #print (\"pred\", root.prediction)\n",
    "        return root.prediction\n",
    "    \n",
    "    treeWalk(root.left)\n",
    "    treeWalk(root.right)"
   ]
  },
  {
   "cell_type": "code",
   "execution_count": 85,
   "metadata": {},
   "outputs": [],
   "source": [
    "def print_tree(node, depth=0):\n",
    "\tif isinstance(node, dict):\n",
    "\t\tprint('%s[X%d < %.3f]' % ((depth*' ', (node['index']+1), node['value'])))\n",
    "\t\tprint_tree(node['left'], depth+1)\n",
    "\t\tprint_tree(node['right'], depth+1)\n",
    "\telse:\n",
    "\t\tprint('%s[%s]' % ((depth*' ', node)))"
   ]
  },
  {
   "cell_type": "code",
   "execution_count": 86,
   "metadata": {},
   "outputs": [],
   "source": [
    "#treeWalk(root)"
   ]
  },
  {
   "cell_type": "code",
   "execution_count": 87,
   "metadata": {},
   "outputs": [],
   "source": [
    "#Build CART/Decision tree\n",
    "\n",
    "def cart(xTr,yTr):\n",
    "    \"\"\"Builds a CART tree.\n",
    "    \n",
    "    The maximum tree depth is defined by \"maxdepth\" (maxdepth=2 means one split).\n",
    "    Each example can be weighted with \"weights\".\n",
    "\n",
    "    Args:\n",
    "        xTr:      n x d matrix of data\n",
    "        yTr:      n-dimensional vector\n",
    "\n",
    "    Returns:\n",
    "        tree: root of decision tree\n",
    "    \"\"\"\n",
    "    n,d = xTr.shape\n",
    "    \n",
    "    # YOUR CODE HERE\n",
    "    \n",
    "    #Can you split it?\n",
    "    #if yes leftnode = cart(leftxTr, leftyTr), rightnode = cart(rightx, right y)\n",
    "    \n",
    "    '''\n",
    "    new\n",
    "    '''\n",
    "    if (n < 2 ):\n",
    "        return TreeNode(None,None,None, None, np.mean(yTr))\n",
    "    \n",
    "    feature, cut, bestloss = IGsplit(xTr,yTr)\n",
    "    #print(\"featcut best: \", feature, cut, bestloss)\n",
    "    if feature != np.inf:\n",
    "        leftxTr =  xTr[xTr.iloc[:,feature]<=cut]\n",
    "        #print('leftxTr', leftxTr)\n",
    "        rightxTr = xTr[xTr.iloc[:,feature]>cut] ## removed =\n",
    "        #print('rightxTr', rightxTr)\n",
    "        leftyTr = yTr[xTr.iloc[:,feature]<=cut]\n",
    "        #rightyTr = yTr[xTr[:,feature]>=cut] -change\n",
    "        rightyTr = yTr[xTr.iloc[:,feature]>cut]\n",
    "        leftTree = cart(leftxTr,leftyTr)\n",
    "        #print('lefttree', leftTree)\n",
    "        rightTree = cart(rightxTr,rightyTr)\n",
    "        prediction = np.round(np.mean(yTr)).astype('int32')\n",
    "        #print(\"pred type\", np.round(prediction).astype('int32'))\n",
    "        #parentNode = TreeNode(leftTree, rightTree , feature, cut, prediction)-chnage\n",
    "        return TreeNode(leftTree, rightTree , feature, cut, prediction)\n",
    "    else:\n",
    "        prediction = np.mean(yTr)\n",
    " \n",
    "        return TreeNode(None,None,None, None, prediction)  "
   ]
  },
  {
   "cell_type": "code",
   "execution_count": 88,
   "metadata": {},
   "outputs": [
    {
     "data": {
      "text/plain": [
       "mpg             category\n",
       "cylinders          int64\n",
       "displacement    category\n",
       "horsepower      category\n",
       "weight          category\n",
       "acceleration    category\n",
       "year            category\n",
       "origin             int64\n",
       "dtype: object"
      ]
     },
     "execution_count": 88,
     "metadata": {},
     "output_type": "execute_result"
    }
   ],
   "source": [
    "xTr.dtypes"
   ]
  },
  {
   "cell_type": "code",
   "execution_count": 89,
   "metadata": {},
   "outputs": [
    {
     "data": {
      "text/plain": [
       "mpg             category\n",
       "cylinders          int64\n",
       "displacement    category\n",
       "horsepower      category\n",
       "weight          category\n",
       "acceleration    category\n",
       "year            category\n",
       "origin             int64\n",
       "dtype: object"
      ]
     },
     "execution_count": 89,
     "metadata": {},
     "output_type": "execute_result"
    }
   ],
   "source": [
    "xTe.dtypes"
   ]
  },
  {
   "cell_type": "code",
   "execution_count": null,
   "metadata": {},
   "outputs": [],
   "source": []
  },
  {
   "cell_type": "code",
   "execution_count": 90,
   "metadata": {},
   "outputs": [
    {
     "name": "stderr",
     "output_type": "stream",
     "text": [
      "<ipython-input-90-01797e08deef>:2: SettingWithCopyWarning: \n",
      "A value is trying to be set on a copy of a slice from a DataFrame.\n",
      "Try using .loc[row_indexer,col_indexer] = value instead\n",
      "\n",
      "See the caveats in the documentation: http://pandas.pydata.org/pandas-docs/stable/user_guide/indexing.html#returning-a-view-versus-a-copy\n",
      "  xTr['mpg'] =xTr['mpg'].astype('float64')\n",
      "<ipython-input-90-01797e08deef>:3: SettingWithCopyWarning: \n",
      "A value is trying to be set on a copy of a slice from a DataFrame.\n",
      "Try using .loc[row_indexer,col_indexer] = value instead\n",
      "\n",
      "See the caveats in the documentation: http://pandas.pydata.org/pandas-docs/stable/user_guide/indexing.html#returning-a-view-versus-a-copy\n",
      "  xTr['cylinders'] = xTr['cylinders'].astype('int64')\n",
      "<ipython-input-90-01797e08deef>:4: SettingWithCopyWarning: \n",
      "A value is trying to be set on a copy of a slice from a DataFrame.\n",
      "Try using .loc[row_indexer,col_indexer] = value instead\n",
      "\n",
      "See the caveats in the documentation: http://pandas.pydata.org/pandas-docs/stable/user_guide/indexing.html#returning-a-view-versus-a-copy\n",
      "  xTr['displacement'] = xTr['displacement'].astype('float64')\n",
      "<ipython-input-90-01797e08deef>:5: SettingWithCopyWarning: \n",
      "A value is trying to be set on a copy of a slice from a DataFrame.\n",
      "Try using .loc[row_indexer,col_indexer] = value instead\n",
      "\n",
      "See the caveats in the documentation: http://pandas.pydata.org/pandas-docs/stable/user_guide/indexing.html#returning-a-view-versus-a-copy\n",
      "  xTr['horsepower'] = xTr['horsepower'].astype('float64')\n",
      "<ipython-input-90-01797e08deef>:6: SettingWithCopyWarning: \n",
      "A value is trying to be set on a copy of a slice from a DataFrame.\n",
      "Try using .loc[row_indexer,col_indexer] = value instead\n",
      "\n",
      "See the caveats in the documentation: http://pandas.pydata.org/pandas-docs/stable/user_guide/indexing.html#returning-a-view-versus-a-copy\n",
      "  xTr['weight'] = xTr['weight'].astype('float64')\n",
      "<ipython-input-90-01797e08deef>:7: SettingWithCopyWarning: \n",
      "A value is trying to be set on a copy of a slice from a DataFrame.\n",
      "Try using .loc[row_indexer,col_indexer] = value instead\n",
      "\n",
      "See the caveats in the documentation: http://pandas.pydata.org/pandas-docs/stable/user_guide/indexing.html#returning-a-view-versus-a-copy\n",
      "  xTr['acceleration'] = xTr['acceleration'].astype('float64')\n",
      "<ipython-input-90-01797e08deef>:8: SettingWithCopyWarning: \n",
      "A value is trying to be set on a copy of a slice from a DataFrame.\n",
      "Try using .loc[row_indexer,col_indexer] = value instead\n",
      "\n",
      "See the caveats in the documentation: http://pandas.pydata.org/pandas-docs/stable/user_guide/indexing.html#returning-a-view-versus-a-copy\n",
      "  xTr['year'] = xTr['year'].astype('int64')\n",
      "<ipython-input-90-01797e08deef>:9: SettingWithCopyWarning: \n",
      "A value is trying to be set on a copy of a slice from a DataFrame.\n",
      "Try using .loc[row_indexer,col_indexer] = value instead\n",
      "\n",
      "See the caveats in the documentation: http://pandas.pydata.org/pandas-docs/stable/user_guide/indexing.html#returning-a-view-versus-a-copy\n",
      "  xTr['origin'] = xTr['origin'].astype('int64')\n"
     ]
    }
   ],
   "source": [
    "#change types of xTr from categorical back to orignal dtype\n",
    "xTr['mpg'] =xTr['mpg'].astype('float64')\n",
    "xTr['cylinders'] = xTr['cylinders'].astype('int64')\n",
    "xTr['displacement'] = xTr['displacement'].astype('float64')\n",
    "xTr['horsepower'] = xTr['horsepower'].astype('float64')\n",
    "xTr['weight'] = xTr['weight'].astype('float64')\n",
    "xTr['acceleration'] = xTr['acceleration'].astype('float64')\n",
    "xTr['year'] = xTr['year'].astype('int64')\n",
    "xTr['origin'] = xTr['origin'].astype('int64')\n"
   ]
  },
  {
   "cell_type": "code",
   "execution_count": 91,
   "metadata": {},
   "outputs": [
    {
     "name": "stderr",
     "output_type": "stream",
     "text": [
      "<ipython-input-91-1203f2cbb3ca>:2: SettingWithCopyWarning: \n",
      "A value is trying to be set on a copy of a slice from a DataFrame.\n",
      "Try using .loc[row_indexer,col_indexer] = value instead\n",
      "\n",
      "See the caveats in the documentation: http://pandas.pydata.org/pandas-docs/stable/user_guide/indexing.html#returning-a-view-versus-a-copy\n",
      "  xTe['mpg'] =xTe['mpg'].astype('float64')\n",
      "<ipython-input-91-1203f2cbb3ca>:3: SettingWithCopyWarning: \n",
      "A value is trying to be set on a copy of a slice from a DataFrame.\n",
      "Try using .loc[row_indexer,col_indexer] = value instead\n",
      "\n",
      "See the caveats in the documentation: http://pandas.pydata.org/pandas-docs/stable/user_guide/indexing.html#returning-a-view-versus-a-copy\n",
      "  xTe['cylinders'] = xTe['cylinders'].astype('int64')\n",
      "<ipython-input-91-1203f2cbb3ca>:4: SettingWithCopyWarning: \n",
      "A value is trying to be set on a copy of a slice from a DataFrame.\n",
      "Try using .loc[row_indexer,col_indexer] = value instead\n",
      "\n",
      "See the caveats in the documentation: http://pandas.pydata.org/pandas-docs/stable/user_guide/indexing.html#returning-a-view-versus-a-copy\n",
      "  xTe['displacement'] = xTe['displacement'].astype('float64')\n",
      "<ipython-input-91-1203f2cbb3ca>:5: SettingWithCopyWarning: \n",
      "A value is trying to be set on a copy of a slice from a DataFrame.\n",
      "Try using .loc[row_indexer,col_indexer] = value instead\n",
      "\n",
      "See the caveats in the documentation: http://pandas.pydata.org/pandas-docs/stable/user_guide/indexing.html#returning-a-view-versus-a-copy\n",
      "  xTe['horsepower'] = xTe['horsepower'].astype('float64')\n",
      "<ipython-input-91-1203f2cbb3ca>:6: SettingWithCopyWarning: \n",
      "A value is trying to be set on a copy of a slice from a DataFrame.\n",
      "Try using .loc[row_indexer,col_indexer] = value instead\n",
      "\n",
      "See the caveats in the documentation: http://pandas.pydata.org/pandas-docs/stable/user_guide/indexing.html#returning-a-view-versus-a-copy\n",
      "  xTe['weight'] = xTe['weight'].astype('float64')\n",
      "<ipython-input-91-1203f2cbb3ca>:7: SettingWithCopyWarning: \n",
      "A value is trying to be set on a copy of a slice from a DataFrame.\n",
      "Try using .loc[row_indexer,col_indexer] = value instead\n",
      "\n",
      "See the caveats in the documentation: http://pandas.pydata.org/pandas-docs/stable/user_guide/indexing.html#returning-a-view-versus-a-copy\n",
      "  xTe['acceleration'] = xTe['acceleration'].astype('float64')\n",
      "<ipython-input-91-1203f2cbb3ca>:8: SettingWithCopyWarning: \n",
      "A value is trying to be set on a copy of a slice from a DataFrame.\n",
      "Try using .loc[row_indexer,col_indexer] = value instead\n",
      "\n",
      "See the caveats in the documentation: http://pandas.pydata.org/pandas-docs/stable/user_guide/indexing.html#returning-a-view-versus-a-copy\n",
      "  xTe['year'] = xTe['year'].astype('int64')\n",
      "<ipython-input-91-1203f2cbb3ca>:9: SettingWithCopyWarning: \n",
      "A value is trying to be set on a copy of a slice from a DataFrame.\n",
      "Try using .loc[row_indexer,col_indexer] = value instead\n",
      "\n",
      "See the caveats in the documentation: http://pandas.pydata.org/pandas-docs/stable/user_guide/indexing.html#returning-a-view-versus-a-copy\n",
      "  xTe['origin'] = xTe['origin'].astype('int64')\n"
     ]
    }
   ],
   "source": [
    "#change types of xTr from categorical back to orignal dtype\n",
    "xTe['mpg'] =xTe['mpg'].astype('float64')\n",
    "xTe['cylinders'] = xTe['cylinders'].astype('int64')\n",
    "xTe['displacement'] = xTe['displacement'].astype('float64')\n",
    "xTe['horsepower'] = xTe['horsepower'].astype('float64')\n",
    "xTe['weight'] = xTe['weight'].astype('float64')\n",
    "xTe['acceleration'] = xTe['acceleration'].astype('float64')\n",
    "xTe['year'] = xTe['year'].astype('int64')\n",
    "xTe['origin'] = xTe['origin'].astype('int64')"
   ]
  },
  {
   "cell_type": "code",
   "execution_count": 92,
   "metadata": {},
   "outputs": [
    {
     "data": {
      "text/plain": [
       "mpg             float64\n",
       "cylinders         int64\n",
       "displacement    float64\n",
       "horsepower      float64\n",
       "weight          float64\n",
       "acceleration    float64\n",
       "year              int64\n",
       "origin            int64\n",
       "dtype: object"
      ]
     },
     "execution_count": 92,
     "metadata": {},
     "output_type": "execute_result"
    }
   ],
   "source": [
    "xTr.dtypes"
   ]
  },
  {
   "cell_type": "code",
   "execution_count": 93,
   "metadata": {},
   "outputs": [],
   "source": [
    "#Use labelencoder to encode yTr\n",
    "label = LabelEncoder()"
   ]
  },
  {
   "cell_type": "code",
   "execution_count": 94,
   "metadata": {},
   "outputs": [],
   "source": [
    "#encode yTr\n",
    "yTr_encode = label.fit_transform(yTr)"
   ]
  },
  {
   "cell_type": "code",
   "execution_count": 95,
   "metadata": {},
   "outputs": [],
   "source": [
    "#encode yTe\n",
    "yTe_encode = label.fit_transform(yTr)"
   ]
  },
  {
   "cell_type": "code",
   "execution_count": 96,
   "metadata": {},
   "outputs": [
    {
     "data": {
      "text/plain": [
       "numpy.int32"
      ]
     },
     "execution_count": 96,
     "metadata": {},
     "output_type": "execute_result"
    }
   ],
   "source": [
    "type(yTe_encode[0])"
   ]
  },
  {
   "cell_type": "code",
   "execution_count": 98,
   "metadata": {},
   "outputs": [],
   "source": [
    "#format xtr and xTe as arrays\n",
    "xTe_arr = xTe.to_numpy()"
   ]
  },
  {
   "cell_type": "code",
   "execution_count": 100,
   "metadata": {},
   "outputs": [],
   "source": [
    "#build CART tree\n",
    "root = cart(xTr, yTr_encode)"
   ]
  },
  {
   "cell_type": "code",
   "execution_count": 101,
   "metadata": {},
   "outputs": [],
   "source": [
    "def treeWalk(root):\n",
    "    #print(\"feat: \", root.feature, \"cut: \", root.cut, \"pred: \",root.prediction)\n",
    "    if root.right==None and root.left ==None:\n",
    "        #print (\"pred\", root.prediction)\n",
    "        return root.prediction\n",
    "    \n",
    "    treeWalk(root.left)\n",
    "    treeWalk(root.right)"
   ]
  },
  {
   "cell_type": "code",
   "execution_count": 102,
   "metadata": {},
   "outputs": [],
   "source": [
    "def evaltree2(root, xTe):\n",
    "    #N,d = xTe.shape\n",
    "    pred = []\n",
    "    \n",
    "    if root.feature == None and root.cut == None:\n",
    "        pred.append(np.round(root.prediction))\n",
    "       # print('pred: ', pred)\n",
    "        return pred\n",
    "    #print(\"root.feature\", root.feature)\n",
    "    if xTe[root.feature] <= root.cut:\n",
    "        #print('xTeleft: ', xTe[root.feature])\n",
    "        return evaltree2(root.left, xTe)\n",
    "    if xTe[root.feature] > root.cut:\n",
    "        #print('xTeright: ', xTe[root.feature])\n",
    "        return evaltree2(root.right,xTe)\n",
    "    #return pred\n",
    "    \n",
    "        \n",
    "\n"
   ]
  },
  {
   "cell_type": "code",
   "execution_count": 103,
   "metadata": {},
   "outputs": [],
   "source": [
    "#define preditc\n",
    "def predict(root, xTe):\n",
    "    return np.array([evaltree2(root, x) for x in xTe_arr])\n",
    "    "
   ]
  },
  {
   "cell_type": "code",
   "execution_count": 104,
   "metadata": {},
   "outputs": [
    {
     "name": "stdout",
     "output_type": "stream",
     "text": [
      "pred:  [126.0]\n",
      "pred:  [74.0]\n",
      "pred:  [77.0]\n",
      "pred:  [116.0]\n",
      "pred:  [64.0]\n",
      "pred:  [128.0]\n",
      "pred:  [136.0]\n",
      "pred:  [84.0]\n",
      "pred:  [70.0]\n",
      "pred:  [165.0]\n",
      "pred:  [84.0]\n",
      "pred:  [80.0]\n",
      "pred:  [208.0]\n",
      "pred:  [74.0]\n",
      "pred:  [131.0]\n",
      "pred:  [118.0]\n",
      "pred:  [84.0]\n",
      "pred:  [126.0]\n",
      "pred:  [162.0]\n",
      "pred:  [127.0]\n",
      "pred:  [119.0]\n",
      "pred:  [77.0]\n",
      "pred:  [92.0]\n",
      "pred:  [61.0]\n",
      "pred:  [80.0]\n",
      "pred:  [128.0]\n",
      "pred:  [80.0]\n",
      "pred:  [92.0]\n",
      "pred:  [116.0]\n",
      "pred:  [126.0]\n",
      "pred:  [165.0]\n",
      "pred:  [128.0]\n",
      "pred:  [70.0]\n",
      "pred:  [59.0]\n",
      "pred:  [203.0]\n",
      "pred:  [145.0]\n",
      "pred:  [116.0]\n",
      "pred:  [64.0]\n",
      "pred:  [169.0]\n",
      "pred:  [92.0]\n",
      "pred:  [81.0]\n",
      "pred:  [208.0]\n",
      "pred:  [119.0]\n",
      "pred:  [208.0]\n",
      "pred:  [119.0]\n",
      "pred:  [15.0]\n",
      "pred:  [165.0]\n",
      "pred:  [124.0]\n",
      "pred:  [64.0]\n",
      "pred:  [119.0]\n",
      "pred:  [85.0]\n",
      "pred:  [118.0]\n",
      "pred:  [64.0]\n",
      "pred:  [92.0]\n",
      "pred:  [126.0]\n",
      "pred:  [151.0]\n",
      "pred:  [70.0]\n",
      "pred:  [85.0]\n",
      "pred:  [65.0]\n",
      "pred:  [74.0]\n",
      "pred:  [199.0]\n",
      "pred:  [64.0]\n",
      "pred:  [119.0]\n",
      "pred:  [92.0]\n",
      "pred:  [84.0]\n",
      "pred:  [203.0]\n",
      "pred:  [54.0]\n",
      "pred:  [85.0]\n",
      "pred:  [128.0]\n",
      "pred:  [145.0]\n",
      "pred:  [136.0]\n",
      "pred:  [85.0]\n",
      "pred:  [203.0]\n",
      "pred:  [199.0]\n",
      "pred:  [169.0]\n",
      "pred:  [118.0]\n",
      "pred:  [151.0]\n",
      "pred:  [127.0]\n",
      "pred:  [128.0]\n",
      "pred:  [84.0]\n",
      "pred:  [136.0]\n",
      "pred:  [70.0]\n",
      "pred:  [77.0]\n",
      "pred:  [151.0]\n",
      "pred:  [165.0]\n",
      "pred:  [106.0]\n",
      "pred:  [92.0]\n",
      "pred:  [106.0]\n",
      "pred:  [191.0]\n",
      "pred:  [171.0]\n",
      "pred:  [169.0]\n",
      "pred:  [70.0]\n",
      "pred:  [64.0]\n",
      "pred:  [84.0]\n",
      "pred:  [128.0]\n",
      "pred:  [124.0]\n",
      "pred:  [131.0]\n",
      "pred:  [77.0]\n",
      "pred:  [203.0]\n",
      "pred:  [77.0]\n",
      "pred:  [126.0]\n",
      "pred:  [118.0]\n",
      "pred:  [106.0]\n",
      "pred:  [63.0]\n",
      "pred:  [48.0]\n",
      "pred:  [208.0]\n",
      "pred:  [119.0]\n",
      "pred:  [144.0]\n",
      "pred:  [92.0]\n",
      "pred:  [64.0]\n",
      "pred:  [64.0]\n",
      "pred:  [84.0]\n",
      "pred:  [59.0]\n",
      "pred:  [208.0]\n",
      "pred:  [145.0]\n",
      "pred:  [128.0]\n",
      "pred:  [92.0]\n",
      "pred:  [162.0]\n"
     ]
    }
   ],
   "source": [
    "#make predition on xTe\n",
    "pred2 = predict(root, xTe)"
   ]
  },
  {
   "cell_type": "code",
   "execution_count": 105,
   "metadata": {},
   "outputs": [
    {
     "data": {
      "text/plain": [
       "array([[126.],\n",
       "       [ 74.],\n",
       "       [ 77.],\n",
       "       [116.],\n",
       "       [ 64.],\n",
       "       [128.],\n",
       "       [136.],\n",
       "       [ 84.],\n",
       "       [ 70.],\n",
       "       [165.],\n",
       "       [ 84.],\n",
       "       [ 80.],\n",
       "       [208.],\n",
       "       [ 74.],\n",
       "       [131.],\n",
       "       [118.],\n",
       "       [ 84.],\n",
       "       [126.],\n",
       "       [162.],\n",
       "       [127.],\n",
       "       [119.],\n",
       "       [ 77.],\n",
       "       [ 92.],\n",
       "       [ 61.],\n",
       "       [ 80.],\n",
       "       [128.],\n",
       "       [ 80.],\n",
       "       [ 92.],\n",
       "       [116.],\n",
       "       [126.],\n",
       "       [165.],\n",
       "       [128.],\n",
       "       [ 70.],\n",
       "       [ 59.],\n",
       "       [203.],\n",
       "       [145.],\n",
       "       [116.],\n",
       "       [ 64.],\n",
       "       [169.],\n",
       "       [ 92.],\n",
       "       [ 81.],\n",
       "       [208.],\n",
       "       [119.],\n",
       "       [208.],\n",
       "       [119.],\n",
       "       [ 15.],\n",
       "       [165.],\n",
       "       [124.],\n",
       "       [ 64.],\n",
       "       [119.],\n",
       "       [ 85.],\n",
       "       [118.],\n",
       "       [ 64.],\n",
       "       [ 92.],\n",
       "       [126.],\n",
       "       [151.],\n",
       "       [ 70.],\n",
       "       [ 85.],\n",
       "       [ 65.],\n",
       "       [ 74.],\n",
       "       [199.],\n",
       "       [ 64.],\n",
       "       [119.],\n",
       "       [ 92.],\n",
       "       [ 84.],\n",
       "       [203.],\n",
       "       [ 54.],\n",
       "       [ 85.],\n",
       "       [128.],\n",
       "       [145.],\n",
       "       [136.],\n",
       "       [ 85.],\n",
       "       [203.],\n",
       "       [199.],\n",
       "       [169.],\n",
       "       [118.],\n",
       "       [151.],\n",
       "       [127.],\n",
       "       [128.],\n",
       "       [ 84.],\n",
       "       [136.],\n",
       "       [ 70.],\n",
       "       [ 77.],\n",
       "       [151.],\n",
       "       [165.],\n",
       "       [106.],\n",
       "       [ 92.],\n",
       "       [106.],\n",
       "       [191.],\n",
       "       [171.],\n",
       "       [169.],\n",
       "       [ 70.],\n",
       "       [ 64.],\n",
       "       [ 84.],\n",
       "       [128.],\n",
       "       [124.],\n",
       "       [131.],\n",
       "       [ 77.],\n",
       "       [203.],\n",
       "       [ 77.],\n",
       "       [126.],\n",
       "       [118.],\n",
       "       [106.],\n",
       "       [ 63.],\n",
       "       [ 48.],\n",
       "       [208.],\n",
       "       [119.],\n",
       "       [144.],\n",
       "       [ 92.],\n",
       "       [ 64.],\n",
       "       [ 64.],\n",
       "       [ 84.],\n",
       "       [ 59.],\n",
       "       [208.],\n",
       "       [145.],\n",
       "       [128.],\n",
       "       [ 92.],\n",
       "       [162.]])"
      ]
     },
     "execution_count": 105,
     "metadata": {},
     "output_type": "execute_result"
    }
   ],
   "source": [
    "pred2"
   ]
  },
  {
   "cell_type": "code",
   "execution_count": 107,
   "metadata": {},
   "outputs": [
    {
     "name": "stderr",
     "output_type": "stream",
     "text": [
      "<ipython-input-107-1a9795e254e4>:1: SettingWithCopyWarning: \n",
      "A value is trying to be set on a copy of a slice from a DataFrame.\n",
      "Try using .loc[row_indexer,col_indexer] = value instead\n",
      "\n",
      "See the caveats in the documentation: http://pandas.pydata.org/pandas-docs/stable/user_guide/indexing.html#returning-a-view-versus-a-copy\n",
      "  xTr['mpg'] =xTr['mpg'].astype('float64')\n",
      "<ipython-input-107-1a9795e254e4>:2: SettingWithCopyWarning: \n",
      "A value is trying to be set on a copy of a slice from a DataFrame.\n",
      "Try using .loc[row_indexer,col_indexer] = value instead\n",
      "\n",
      "See the caveats in the documentation: http://pandas.pydata.org/pandas-docs/stable/user_guide/indexing.html#returning-a-view-versus-a-copy\n",
      "  xTr['cylinders'] = xTr['cylinders'].astype('int64')\n",
      "<ipython-input-107-1a9795e254e4>:3: SettingWithCopyWarning: \n",
      "A value is trying to be set on a copy of a slice from a DataFrame.\n",
      "Try using .loc[row_indexer,col_indexer] = value instead\n",
      "\n",
      "See the caveats in the documentation: http://pandas.pydata.org/pandas-docs/stable/user_guide/indexing.html#returning-a-view-versus-a-copy\n",
      "  xTr['displacement'] = xTr['displacement'].astype('float64')\n",
      "<ipython-input-107-1a9795e254e4>:4: SettingWithCopyWarning: \n",
      "A value is trying to be set on a copy of a slice from a DataFrame.\n",
      "Try using .loc[row_indexer,col_indexer] = value instead\n",
      "\n",
      "See the caveats in the documentation: http://pandas.pydata.org/pandas-docs/stable/user_guide/indexing.html#returning-a-view-versus-a-copy\n",
      "  xTr['horsepower'] = xTr['horsepower'].astype('float64')\n",
      "<ipython-input-107-1a9795e254e4>:5: SettingWithCopyWarning: \n",
      "A value is trying to be set on a copy of a slice from a DataFrame.\n",
      "Try using .loc[row_indexer,col_indexer] = value instead\n",
      "\n",
      "See the caveats in the documentation: http://pandas.pydata.org/pandas-docs/stable/user_guide/indexing.html#returning-a-view-versus-a-copy\n",
      "  xTr['weight'] = xTr['weight'].astype('float64')\n",
      "<ipython-input-107-1a9795e254e4>:6: SettingWithCopyWarning: \n",
      "A value is trying to be set on a copy of a slice from a DataFrame.\n",
      "Try using .loc[row_indexer,col_indexer] = value instead\n",
      "\n",
      "See the caveats in the documentation: http://pandas.pydata.org/pandas-docs/stable/user_guide/indexing.html#returning-a-view-versus-a-copy\n",
      "  xTr['acceleration'] = xTr['acceleration'].astype('float64')\n",
      "<ipython-input-107-1a9795e254e4>:7: SettingWithCopyWarning: \n",
      "A value is trying to be set on a copy of a slice from a DataFrame.\n",
      "Try using .loc[row_indexer,col_indexer] = value instead\n",
      "\n",
      "See the caveats in the documentation: http://pandas.pydata.org/pandas-docs/stable/user_guide/indexing.html#returning-a-view-versus-a-copy\n",
      "  xTr['year'] = xTr['year'].astype('int64')\n"
     ]
    }
   ],
   "source": [
    "xTr['mpg'] =xTr['mpg'].astype('float64')\n",
    "xTr['cylinders'] = xTr['cylinders'].astype('int64')\n",
    "xTr['displacement'] = xTr['displacement'].astype('float64')\n",
    "xTr['horsepower'] = xTr['horsepower'].astype('float64')\n",
    "xTr['weight'] = xTr['weight'].astype('float64')\n",
    "xTr['acceleration'] = xTr['acceleration'].astype('float64')\n",
    "xTr['year'] = xTr['year'].astype('int64')\n",
    " "
   ]
  },
  {
   "cell_type": "code",
   "execution_count": null,
   "metadata": {},
   "outputs": [],
   "source": []
  },
  {
   "cell_type": "code",
   "execution_count": 108,
   "metadata": {},
   "outputs": [],
   "source": [
    "dec_tree = DecisionTreeClassifier()"
   ]
  },
  {
   "cell_type": "code",
   "execution_count": 109,
   "metadata": {},
   "outputs": [
    {
     "data": {
      "text/plain": [
       "DecisionTreeClassifier(class_weight=None, criterion='gini', max_depth=None,\n",
       "                       max_features=None, max_leaf_nodes=None,\n",
       "                       min_impurity_decrease=0.0, min_impurity_split=None,\n",
       "                       min_samples_leaf=1, min_samples_split=2,\n",
       "                       min_weight_fraction_leaf=0.0, presort=False,\n",
       "                       random_state=None, splitter='best')"
      ]
     },
     "execution_count": 109,
     "metadata": {},
     "output_type": "execute_result"
    }
   ],
   "source": [
    "dec_tree.fit(xTr,yTr_encode)"
   ]
  },
  {
   "cell_type": "code",
   "execution_count": 110,
   "metadata": {},
   "outputs": [],
   "source": [
    "sk_tree = dec_tree.predict(xTe)"
   ]
  },
  {
   "cell_type": "code",
   "execution_count": 111,
   "metadata": {},
   "outputs": [
    {
     "data": {
      "text/plain": [
       "0.34545454545454546"
      ]
     },
     "execution_count": 111,
     "metadata": {},
     "output_type": "execute_result"
    }
   ],
   "source": [
    "dec_tree.score(xTr,yTr_encode)"
   ]
  },
  {
   "cell_type": "code",
   "execution_count": 112,
   "metadata": {},
   "outputs": [],
   "source": [
    "#Create accuracy function\n",
    "def accuracy(yPred, yTrue):\n",
    "    return np.sum(yPred ==yTrue)/len(yPred)\n",
    "    "
   ]
  },
  {
   "cell_type": "code",
   "execution_count": 113,
   "metadata": {},
   "outputs": [
    {
     "data": {
      "text/plain": [
       "1.1355932203389831"
      ]
     },
     "execution_count": 113,
     "metadata": {},
     "output_type": "execute_result"
    }
   ],
   "source": [
    "#accuracy of my decision tree\n",
    "accuracy(pred2,yTe_encode)"
   ]
  },
  {
   "cell_type": "code",
   "execution_count": null,
   "metadata": {},
   "outputs": [],
   "source": []
  },
  {
   "cell_type": "code",
   "execution_count": null,
   "metadata": {},
   "outputs": [],
   "source": []
  }
 ],
 "metadata": {
  "kernelspec": {
   "display_name": "Python 3",
   "language": "python",
   "name": "python3"
  },
  "language_info": {
   "codemirror_mode": {
    "name": "ipython",
    "version": 3
   },
   "file_extension": ".py",
   "mimetype": "text/x-python",
   "name": "python",
   "nbconvert_exporter": "python",
   "pygments_lexer": "ipython3",
   "version": "3.8.0"
  }
 },
 "nbformat": 4,
 "nbformat_minor": 2
}
